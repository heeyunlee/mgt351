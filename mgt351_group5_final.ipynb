{
  "cells": [
    {
      "cell_type": "markdown",
      "metadata": {
        "id": "HsPYNI-NwHLZ"
      },
      "source": [
        "## Disney+ Movies & TV Shows"
      ]
    },
    {
      "cell_type": "markdown",
      "metadata": {
        "id": "lRMBs2wpwHLa"
      },
      "source": [
        "We used the dataset of the movies and shows listed on Disney+, a streaming service created by Disney. The dataset has 1,450 unique rows and 12 columns, which include the data about TV shows added to the platform as rencet as late November of this year. We got the dataset from [Kaggle](https://www.kaggle.com/shivamb/disney-movies-and-tv-shows)\n",
        "\n",
        "The dataset includes 1450 unique rows (listing) and 11 variables.\n",
        "\n",
        "Here are what each variables mean\n",
        "- `type`: the type of a data, either tv show or movie\n",
        "- `title`: the title of the listing\n",
        "- `director`: the director(s) of the listing\n",
        "- `cast`: the cast(s) of the listing\n",
        "- `country`: a country or countries of production\n",
        "- `date_added`: a date added on Disney+\n",
        "- `release_year`: original release year of the listing\n",
        "- `rating`: a rating of the listing\n",
        "- `duration`: total duration of the listing. Minutes for the movies and seasons for tv shows\n",
        "- `listed_in`: the genre(s) of the listing\n",
        "- `description`: the description of the listing\n",
        "\n",
        "We used all of the variables to make our analysis. \n",
        "\n",
        "#### **Table of Contents**\n",
        "- [1. Import and Data Exploration](#1-import-libraries-and-data-exploration)\n",
        "- [2. Data Cleaning](#2-data-cleaning)\n",
        "  - [(a) Drop Duplicates](#a-drop-duplicates)\n",
        "  - [(b) Take Care of Missing Data](#b-take-care-of-missing-data)\n",
        "  - [(c) Creating New Columns](#c-creating-new-columns)\n",
        "  - [(d) Splitting DataFrame](#d-splitting-dataframe)\n",
        "- [3. Questions & Answers](#3-questions-and-answers)\n",
        "  - [Q1. Who is the most casted TV show actor, and how many TV shows are they a part of? What about Movies?](#q1-who-is-the-most-casted-tv-show-actor-and-how-many-tv-shows-are-they-a-part-of-what-about-movies)\n",
        "  - [Q2. What percentage of movies have a duration longer than 80 minutes?](#q2-what-percentage-of-movies-have-a-duration-longer-than-80-minutes)\n",
        "  - [Q3. Which directors have the most movies on Disney+?](#q3-which-directors-have-the-most-movies-on-disney)\n",
        "  - [Q4. What are the top 10 genres on Disney+? Also, how the genres have changed over time?](#q4-what-are-the-top-10-genres-on-disney-also-how-the-genres-have-changed-over-time)\n",
        "  - [Q5. Were there more or less family-friendly movies and TV shows over time?](#q5-were-there-more-or-less-family-friendly-movies-and-tv-shows-over-time)\n",
        "  - [Q6. Did the duration of movies get longer or shorter over time?](#q6-did-the-duration-of-movies-get-longer-or-shorter-over-time)"
      ]
    },
    {
      "cell_type": "code",
      "execution_count": 304,
      "metadata": {},
      "outputs": [
        {
          "data": {
            "text/plain": [
              "'q5.-were-there-more-or-less-family-friendly-movies-and-tv-shows-over-time?'"
            ]
          },
          "execution_count": 304,
          "metadata": {},
          "output_type": "execute_result"
        }
      ],
      "source": [
        "x = 'Q5. Were there more or less family-friendly movies and TV shows over time?'\n",
        "x = x.lower().replace(' ', '-')\n",
        "x"
      ]
    },
    {
      "cell_type": "markdown",
      "metadata": {
        "id": "JH7J5-fXwHLb"
      },
      "source": [
        "### 1. Import Libraries and Data Exploration"
      ]
    },
    {
      "cell_type": "code",
      "execution_count": 156,
      "metadata": {
        "id": "prmcaBnNwHLc"
      },
      "outputs": [
        {
          "name": "stdout",
          "output_type": "stream",
          "text": [
            "<class 'pandas.core.frame.DataFrame'>\n",
            "RangeIndex: 1450 entries, 0 to 1449\n",
            "Data columns (total 12 columns):\n",
            " #   Column        Non-Null Count  Dtype \n",
            "---  ------        --------------  ----- \n",
            " 0   show_id       1450 non-null   object\n",
            " 1   type          1450 non-null   object\n",
            " 2   title         1450 non-null   object\n",
            " 3   director      977 non-null    object\n",
            " 4   cast          1260 non-null   object\n",
            " 5   country       1231 non-null   object\n",
            " 6   date_added    1447 non-null   object\n",
            " 7   release_year  1450 non-null   int64 \n",
            " 8   rating        1447 non-null   object\n",
            " 9   duration      1450 non-null   object\n",
            " 10  listed_in     1450 non-null   object\n",
            " 11  description   1450 non-null   object\n",
            "dtypes: int64(1), object(11)\n",
            "memory usage: 136.1+ KB\n"
          ]
        }
      ],
      "source": [
        "import pandas as pd\n",
        "import numpy as np\n",
        "import matplotlib.pyplot as plt\n",
        "import custom_functions\n",
        "from collections import Counter\n",
        "\n",
        "disney = pd.read_csv('disney_plus_titles.csv')\n",
        "\n",
        "disney.info()"
      ]
    },
    {
      "cell_type": "code",
      "execution_count": 157,
      "metadata": {},
      "outputs": [
        {
          "data": {
            "text/html": [
              "<div>\n",
              "<style scoped>\n",
              "    .dataframe tbody tr th:only-of-type {\n",
              "        vertical-align: middle;\n",
              "    }\n",
              "\n",
              "    .dataframe tbody tr th {\n",
              "        vertical-align: top;\n",
              "    }\n",
              "\n",
              "    .dataframe thead th {\n",
              "        text-align: right;\n",
              "    }\n",
              "</style>\n",
              "<table border=\"1\" class=\"dataframe\">\n",
              "  <thead>\n",
              "    <tr style=\"text-align: right;\">\n",
              "      <th></th>\n",
              "      <th>show_id</th>\n",
              "      <th>type</th>\n",
              "      <th>title</th>\n",
              "      <th>director</th>\n",
              "      <th>cast</th>\n",
              "      <th>country</th>\n",
              "      <th>date_added</th>\n",
              "      <th>release_year</th>\n",
              "      <th>rating</th>\n",
              "      <th>duration</th>\n",
              "      <th>listed_in</th>\n",
              "      <th>description</th>\n",
              "    </tr>\n",
              "  </thead>\n",
              "  <tbody>\n",
              "    <tr>\n",
              "      <th>0</th>\n",
              "      <td>s1</td>\n",
              "      <td>Movie</td>\n",
              "      <td>Duck the Halls: A Mickey Mouse Christmas Special</td>\n",
              "      <td>Alonso Ramirez Ramos, Dave Wasson</td>\n",
              "      <td>Chris Diamantopoulos, Tony Anselmo, Tress MacN...</td>\n",
              "      <td>NaN</td>\n",
              "      <td>November 26, 2021</td>\n",
              "      <td>2016</td>\n",
              "      <td>TV-G</td>\n",
              "      <td>23 min</td>\n",
              "      <td>Animation, Family</td>\n",
              "      <td>Join Mickey and the gang as they duck the halls!</td>\n",
              "    </tr>\n",
              "    <tr>\n",
              "      <th>1</th>\n",
              "      <td>s2</td>\n",
              "      <td>Movie</td>\n",
              "      <td>Ernest Saves Christmas</td>\n",
              "      <td>John Cherry</td>\n",
              "      <td>Jim Varney, Noelle Parker, Douglas Seale</td>\n",
              "      <td>NaN</td>\n",
              "      <td>November 26, 2021</td>\n",
              "      <td>1988</td>\n",
              "      <td>PG</td>\n",
              "      <td>91 min</td>\n",
              "      <td>Comedy</td>\n",
              "      <td>Santa Claus passes his magic bag to a new St. ...</td>\n",
              "    </tr>\n",
              "    <tr>\n",
              "      <th>2</th>\n",
              "      <td>s3</td>\n",
              "      <td>Movie</td>\n",
              "      <td>Ice Age: A Mammoth Christmas</td>\n",
              "      <td>Karen Disher</td>\n",
              "      <td>Raymond Albert Romano, John Leguizamo, Denis L...</td>\n",
              "      <td>United States</td>\n",
              "      <td>November 26, 2021</td>\n",
              "      <td>2011</td>\n",
              "      <td>TV-G</td>\n",
              "      <td>23 min</td>\n",
              "      <td>Animation, Comedy, Family</td>\n",
              "      <td>Sid the Sloth is on Santa's naughty list.</td>\n",
              "    </tr>\n",
              "    <tr>\n",
              "      <th>3</th>\n",
              "      <td>s4</td>\n",
              "      <td>Movie</td>\n",
              "      <td>The Queen Family Singalong</td>\n",
              "      <td>Hamish Hamilton</td>\n",
              "      <td>Darren Criss, Adam Lambert, Derek Hough, Alexa...</td>\n",
              "      <td>NaN</td>\n",
              "      <td>November 26, 2021</td>\n",
              "      <td>2021</td>\n",
              "      <td>TV-PG</td>\n",
              "      <td>41 min</td>\n",
              "      <td>Musical</td>\n",
              "      <td>This is real life, not just fantasy!</td>\n",
              "    </tr>\n",
              "    <tr>\n",
              "      <th>4</th>\n",
              "      <td>s5</td>\n",
              "      <td>TV Show</td>\n",
              "      <td>The Beatles: Get Back</td>\n",
              "      <td>NaN</td>\n",
              "      <td>John Lennon, Paul McCartney, George Harrison, ...</td>\n",
              "      <td>NaN</td>\n",
              "      <td>November 25, 2021</td>\n",
              "      <td>2021</td>\n",
              "      <td>NaN</td>\n",
              "      <td>1 Season</td>\n",
              "      <td>Docuseries, Historical, Music</td>\n",
              "      <td>A three-part documentary from Peter Jackson ca...</td>\n",
              "    </tr>\n",
              "  </tbody>\n",
              "</table>\n",
              "</div>"
            ],
            "text/plain": [
              "  show_id     type                                             title  \\\n",
              "0      s1    Movie  Duck the Halls: A Mickey Mouse Christmas Special   \n",
              "1      s2    Movie                            Ernest Saves Christmas   \n",
              "2      s3    Movie                      Ice Age: A Mammoth Christmas   \n",
              "3      s4    Movie                        The Queen Family Singalong   \n",
              "4      s5  TV Show                             The Beatles: Get Back   \n",
              "\n",
              "                            director  \\\n",
              "0  Alonso Ramirez Ramos, Dave Wasson   \n",
              "1                        John Cherry   \n",
              "2                       Karen Disher   \n",
              "3                    Hamish Hamilton   \n",
              "4                                NaN   \n",
              "\n",
              "                                                cast        country  \\\n",
              "0  Chris Diamantopoulos, Tony Anselmo, Tress MacN...            NaN   \n",
              "1           Jim Varney, Noelle Parker, Douglas Seale            NaN   \n",
              "2  Raymond Albert Romano, John Leguizamo, Denis L...  United States   \n",
              "3  Darren Criss, Adam Lambert, Derek Hough, Alexa...            NaN   \n",
              "4  John Lennon, Paul McCartney, George Harrison, ...            NaN   \n",
              "\n",
              "          date_added  release_year rating  duration  \\\n",
              "0  November 26, 2021          2016   TV-G    23 min   \n",
              "1  November 26, 2021          1988     PG    91 min   \n",
              "2  November 26, 2021          2011   TV-G    23 min   \n",
              "3  November 26, 2021          2021  TV-PG    41 min   \n",
              "4  November 25, 2021          2021    NaN  1 Season   \n",
              "\n",
              "                       listed_in  \\\n",
              "0              Animation, Family   \n",
              "1                         Comedy   \n",
              "2      Animation, Comedy, Family   \n",
              "3                        Musical   \n",
              "4  Docuseries, Historical, Music   \n",
              "\n",
              "                                         description  \n",
              "0   Join Mickey and the gang as they duck the halls!  \n",
              "1  Santa Claus passes his magic bag to a new St. ...  \n",
              "2          Sid the Sloth is on Santa's naughty list.  \n",
              "3               This is real life, not just fantasy!  \n",
              "4  A three-part documentary from Peter Jackson ca...  "
            ]
          },
          "execution_count": 157,
          "metadata": {},
          "output_type": "execute_result"
        }
      ],
      "source": [
        "disney.head()"
      ]
    },
    {
      "cell_type": "markdown",
      "metadata": {},
      "source": [
        "### 2. Data Cleaning"
      ]
    },
    {
      "cell_type": "markdown",
      "metadata": {},
      "source": [
        "#### (a) Drop Duplicates"
      ]
    },
    {
      "cell_type": "code",
      "execution_count": 158,
      "metadata": {
        "id": "rsz8za_awHLe"
      },
      "outputs": [
        {
          "name": "stdout",
          "output_type": "stream",
          "text": [
            "DataFrame shape is (1450, 12)\n",
            "There are 1450 unique show_id values, which means that there is no duplicate data.\n"
          ]
        }
      ],
      "source": [
        "print(f'DataFrame shape is {disney.shape}')\n",
        "\n",
        "unique_show_id_len = len(disney['show_id'].unique())\n",
        "print(f'There are {unique_show_id_len} unique show_id values, which means that there is no duplicate data.')\n",
        "\n",
        "# Just in case, we delete any duplicate data\n",
        "disney = disney.drop_duplicates(subset=['show_id'], keep='first')"
      ]
    },
    {
      "cell_type": "markdown",
      "metadata": {},
      "source": [
        "#### (b) Take care of missing data"
      ]
    },
    {
      "cell_type": "code",
      "execution_count": 159,
      "metadata": {},
      "outputs": [
        {
          "name": "stdout",
          "output_type": "stream",
          "text": [
            "NAs at the beggining: \n",
            "show_id           0\n",
            "type              0\n",
            "title             0\n",
            "director        473\n",
            "cast            190\n",
            "country         219\n",
            "date_added        3\n",
            "release_year      0\n",
            "rating            3\n",
            "duration          0\n",
            "listed_in         0\n",
            "description       0\n",
            "dtype: int64\n",
            "\n",
            "Rows with at least one NA: 632\n"
          ]
        }
      ],
      "source": [
        "# Check for NAs\n",
        "nan_table_start = disney.isna().sum()\n",
        "print(f'NAs at the beggining: \\n{nan_table_start}')\n",
        "\n",
        "# Check for rows with at least one NA\n",
        "rows_with_na = disney.isnull().any(axis=1).sum()\n",
        "print(f'\\nRows with at least one NA: {rows_with_na}')"
      ]
    },
    {
      "cell_type": "code",
      "execution_count": 160,
      "metadata": {},
      "outputs": [],
      "source": [
        "# Filling Rating NAs manually because there is only 3 NAs\n",
        "disney[disney['rating'].isna()].loc[:, ['title', 'rating']]\n",
        "\n",
        "# \t    title\t                        rating\n",
        "# 4\t    The Beatles: Get Back\t        NaN\n",
        "# 276\tDisney My Music Story: Perfume\tNaN\n",
        "# 280\tMarvel Studios ASSEMBLED\t    NaN\n",
        "\n",
        "disney.loc[[4,276,280], 'rating'] = 'TV-14'"
      ]
    },
    {
      "cell_type": "code",
      "execution_count": 161,
      "metadata": {},
      "outputs": [
        {
          "name": "stdout",
          "output_type": "stream",
          "text": [
            "\n",
            "Out of 632, 181 times we found the matching data using OMDB API.\n",
            "\n",
            "We modified 20 rows with director and 53 rows with actors.\n",
            "\n",
            "We modified 43 rows with country.\n",
            "\n"
          ]
        }
      ],
      "source": [
        "# There are 632 rows with at least 1 null value. For each of them, we used OMDB API to fill the missing values.\n",
        "\n",
        "n_data_exist = 0\n",
        "n_modified_directors = 0\n",
        "n_modified_actors = 0\n",
        "n_modified_country = 0\n",
        "\n",
        "for index, row in disney[disney.isnull().any(axis=1)].iterrows():\n",
        "\n",
        "    # Using custom function to get the JSON data of the movie with NA values\n",
        "    data = custom_functions.get_omdb_data(row['title'], row['release_year'])\n",
        "\n",
        "    # If the data does not exist, we skip the row\n",
        "    if pd.isna(data):\n",
        "        continue\n",
        "\n",
        "    # If the data exists, we fill the NA values with the data\n",
        "    else:\n",
        "        n_data_exist += 1\n",
        "\n",
        "        if pd.isna(row['director']) and (data['Director'] != 'N/A'):\n",
        "            disney.loc[index, 'director'] = data['Director']\n",
        "\n",
        "            n_modified_directors += 1\n",
        "        \n",
        "        if pd.isna(row['cast']) and (data['Actors'] != 'N/A'):\n",
        "            disney.loc[index, 'cast'] = data['Actors']\n",
        "\n",
        "            n_modified_actors += 1\n",
        "        \n",
        "        if pd.isna(row['country']) and (data['Country'] != 'N/A'):\n",
        "            disney.loc[index, 'country'] = data['Country']\n",
        "\n",
        "            n_modified_country += 1\n",
        "\n",
        "\n",
        "print(f'''\n",
        "Out of 632, {n_data_exist} times we found the matching data using OMDB API.\n",
        "\\nWe modified {n_modified_directors} rows with director and {n_modified_actors} rows with actors.\n",
        "\\nWe modified {n_modified_country} rows with country.\n",
        "''')\n"
      ]
    },
    {
      "cell_type": "code",
      "execution_count": 162,
      "metadata": {},
      "outputs": [
        {
          "name": "stdout",
          "output_type": "stream",
          "text": [
            "NAs at the end: \n",
            "show_id           0\n",
            "type              0\n",
            "title             0\n",
            "director        453\n",
            "cast            137\n",
            "country         176\n",
            "date_added        3\n",
            "release_year      0\n",
            "rating            0\n",
            "duration          0\n",
            "listed_in         0\n",
            "description       0\n",
            "dtype: int64\n"
          ]
        }
      ],
      "source": [
        "# The result of filling NA values using REST API\n",
        "nan_table_end = disney.isna().sum()\n",
        "print(f'NAs at the end: \\n{nan_table_end}')"
      ]
    },
    {
      "cell_type": "code",
      "execution_count": 163,
      "metadata": {},
      "outputs": [],
      "source": [
        "# Replacing 'N/A', 'N.A.', 'N.A', 'N/A.', 'N/A', np.nan, None with empty string\n",
        "disney = disney.replace([np.nan, 'N/A'], '')"
      ]
    },
    {
      "cell_type": "markdown",
      "metadata": {},
      "source": [
        "#### (c) Creating New Columns"
      ]
    },
    {
      "cell_type": "code",
      "execution_count": 164,
      "metadata": {
        "id": "W-HeHWq9xabF"
      },
      "outputs": [],
      "source": [
        "# Creating `duration_int` to see new column of duration without “min”\n",
        "disney['duration_int'] = disney['duration'].str.strip('min')\n",
        "\n",
        "# Creating `family_friendly` column to see if the movie is family friendly\n",
        "disney['rating'].unique()\n",
        "# There are 9 unique ratings: ['TV-G', 'PG', 'TV-PG', 'PG-13', 'TV-14', 'G', 'TV-Y7', 'TV-Y', 'TV-Y7-FV']\n",
        "\n",
        "# 'TV-G', 'PG', 'TV-PG', 'G', 'TV-Y7', 'TV-Y', 'TV-Y7-FV' are family friendly\n",
        "# 'PG-13', 'TV-14' are NOT family friendly\n",
        "family_friendly = ['TV-G', 'PG', 'TV-PG', 'G', 'TV-Y7', 'TV-Y', 'TV-Y7-FV']\n",
        "disney['family_friendly'] = disney['rating'].isin(family_friendly)\n",
        "\n",
        "# Changing `date_added` column to datetime and creating `year_added`, 'month_added`, `day_added` column based on it\n",
        "disney['date_added'] = pd.to_datetime(disney['date_added'])\n",
        "disney['year_added'] = disney['date_added'].dt.year\n",
        "disney['month_added'] = disney['date_added'].dt.month\n",
        "disney['day_added'] = disney['date_added'].dt.day"
      ]
    },
    {
      "cell_type": "markdown",
      "metadata": {},
      "source": [
        "#### (d) Splitting DataFrame"
      ]
    },
    {
      "cell_type": "code",
      "execution_count": 165,
      "metadata": {},
      "outputs": [],
      "source": [
        "## Splitting the data by type\n",
        "disney_movies, disney_tv_shows = [i for i, i in disney.groupby(disney['type'] == 'TV Show')]"
      ]
    },
    {
      "cell_type": "markdown",
      "metadata": {
        "id": "nnyXIQznwHLi"
      },
      "source": [
        "### 3. Questions And Answers"
      ]
    },
    {
      "cell_type": "code",
      "execution_count": 166,
      "metadata": {},
      "outputs": [],
      "source": [
        "# This function gets column name and DataFrame as the parameter and returns the counter that could be used to answer many \n",
        "# questions about the data.\n",
        "def column_to_counter(column_name: str, data_frame: pd.DataFrame) -> pd.Series:\n",
        "    starting_list = []\n",
        "\n",
        "    # Creating the list of strings from df\n",
        "    for item in data_frame[column_name]:\n",
        "        # if (item is not None) or (item != 'NaN'):\n",
        "            item_split = str(item).split(',')\n",
        "            item_strip = [x.strip() for x in item_split if x]\n",
        "\n",
        "            starting_list += item_strip\n",
        "    \n",
        "    # Creating DataFrame to groupby, sort_values, and plot\n",
        "    starting_list_df = pd.DataFrame(starting_list, columns = [column_name])\n",
        "\n",
        "    # Creating the counter\n",
        "    counter = starting_list_df.groupby(column_name)[column_name].count().sort_values(ascending = False)\n",
        "\n",
        "    return counter"
      ]
    },
    {
      "cell_type": "markdown",
      "metadata": {
        "id": "ojeWcdxvxqzs"
      },
      "source": [
        "#### Q1. Who is the most casted TV show actor and how many TV shows are they a part of? What about Movies?"
      ]
    },
    {
      "cell_type": "code",
      "execution_count": 167,
      "metadata": {
        "colab": {
          "base_uri": "https://localhost:8080/"
        },
        "id": "JYSMQnWHxxBr",
        "outputId": "8f1ab383-6b61-4769-a9be-f23a19b20bbd"
      },
      "outputs": [
        {
          "data": {
            "text/plain": [
              "([0, 1, 2, 3, 4, 5, 6, 7],\n",
              " [Text(0, 0, ''),\n",
              "  Text(0, 0, ''),\n",
              "  Text(0, 0, ''),\n",
              "  Text(0, 0, ''),\n",
              "  Text(0, 0, ''),\n",
              "  Text(0, 0, ''),\n",
              "  Text(0, 0, ''),\n",
              "  Text(0, 0, '')])"
            ]
          },
          "execution_count": 167,
          "metadata": {},
          "output_type": "execute_result"
        },
        {
          "data": {
            "image/png": "[encoded data removed]",
            "text/plain": [
              "<Figure size 432x288 with 1 Axes>"
            ]
          },
          "metadata": {
            "needs_background": "light"
          },
          "output_type": "display_data"
        }
      ],
      "source": [
        "counter_tv_shows = column_to_counter('cast', disney_tv_shows)\n",
        "\n",
        "plt.bar(counter_tv_shows.index[:8],counter_tv_shows.values[:8])\n",
        "plt.xlabel('Actors')\n",
        "plt.ylabel('Count')\n",
        "plt.title('Top 8 Actors in Disney+ TV Shows')\n",
        "plt.xticks(rotation = 60)"
      ]
    },
    {
      "cell_type": "code",
      "execution_count": 168,
      "metadata": {},
      "outputs": [
        {
          "name": "stdout",
          "output_type": "stream",
          "text": [
            "cast\n",
            "Walt Disney            25\n",
            "Pinto Colvig           23\n",
            "Jim Cummings           20\n",
            "Clarence Nash          19\n",
            "Larry the Cable Guy    19\n",
            "Bob Peterson           14\n",
            "Keith Ferguson         14\n",
            "Tim Allen              14\n",
            "Name: cast, dtype: int64\n"
          ]
        },
        {
          "data": {
            "text/plain": [
              "([0, 1, 2, 3, 4, 5, 6, 7],\n",
              " [Text(0, 0, ''),\n",
              "  Text(0, 0, ''),\n",
              "  Text(0, 0, ''),\n",
              "  Text(0, 0, ''),\n",
              "  Text(0, 0, ''),\n",
              "  Text(0, 0, ''),\n",
              "  Text(0, 0, ''),\n",
              "  Text(0, 0, '')])"
            ]
          },
          "execution_count": 168,
          "metadata": {},
          "output_type": "execute_result"
        },
        {
          "data": {
            "image/png": "[encoded data removed]",
            "text/plain": [
              "<Figure size 432x288 with 1 Axes>"
            ]
          },
          "metadata": {
            "needs_background": "light"
          },
          "output_type": "display_data"
        }
      ],
      "source": [
        "counter_movies = column_to_counter('cast', disney_movies)\n",
        "print(counter_movies[:8])\n",
        "\n",
        "plt.bar(counter_movies.index[:8],counter_movies.values[:8])\n",
        "plt.xlabel('Actors')\n",
        "plt.ylabel('Count')\n",
        "plt.title('Top 8 Actors in Disney+ Movies')\n",
        "plt.xticks(rotation = 60)"
      ]
    },
    {
      "cell_type": "markdown",
      "metadata": {
        "id": "h6CJkU-ex3yo"
      },
      "source": [
        "Answer: Jim Cummings is the most casted TV show actor. He is a part of 13 TV shows on Disney+.\n",
        "\n",
        "Pinto Colvig is the most casted actor in movie. He has 28 movies on Disney+"
      ]
    },
    {
      "cell_type": "markdown",
      "metadata": {
        "id": "OS2DnXKMxD66"
      },
      "source": [
        "#### Q2. What percentage of movies have a duration longer than 80 minutes?"
      ]
    },
    {
      "cell_type": "code",
      "execution_count": 169,
      "metadata": {
        "colab": {
          "base_uri": "https://localhost:8080/"
        },
        "id": "jnLE0IBvxKZj",
        "outputId": "fc7a1a3d-0407-43c7-8815-cb47f64e8f6f"
      },
      "outputs": [
        {
          "data": {
            "text/plain": [
              "44.20152091254753"
            ]
          },
          "execution_count": 169,
          "metadata": {},
          "output_type": "execute_result"
        }
      ],
      "source": [
        "disney_movies['duration_int'] = disney_movies['duration_int'].astype(int)\n",
        "sum(disney_movies['duration_int'] > 88) / len(disney_movies) * 100"
      ]
    },
    {
      "cell_type": "markdown",
      "metadata": {
        "id": "pdgDN4nqyLcI"
      },
      "source": [
        "Answer: 44.20% of the movies have a duration of more than 80 minutes"
      ]
    },
    {
      "cell_type": "markdown",
      "metadata": {
        "id": "YotDaugFwHLj"
      },
      "source": [
        "#### Q3. Which directors have the most movies on Disney+?"
      ]
    },
    {
      "cell_type": "code",
      "execution_count": 170,
      "metadata": {
        "colab": {
          "base_uri": "https://localhost:8080/",
          "height": 375
        },
        "id": "fB4bHrymwHLk",
        "outputId": "5e319f3f-fe79-4f80-85e5-38d35abb2f3e"
      },
      "outputs": [
        {
          "data": {
            "text/plain": [
              "([0, 1, 2, 3, 4, 5, 6, 7],\n",
              " [Text(0, 0, ''),\n",
              "  Text(0, 0, ''),\n",
              "  Text(0, 0, ''),\n",
              "  Text(0, 0, ''),\n",
              "  Text(0, 0, ''),\n",
              "  Text(0, 0, ''),\n",
              "  Text(0, 0, ''),\n",
              "  Text(0, 0, '')])"
            ]
          },
          "execution_count": 170,
          "metadata": {},
          "output_type": "execute_result"
        },
        {
          "data": {
            "image/png": "[encoded data removed]",
            "text/plain": [
              "<Figure size 432x288 with 1 Axes>"
            ]
          },
          "metadata": {
            "needs_background": "light"
          },
          "output_type": "display_data"
        }
      ],
      "source": [
        "director_count_movie = column_to_counter('director', disney_movies)\n",
        "\n",
        "plt.bar(director_count_movie.index[:8],director_count_movie.values[:8])\n",
        "plt.xlabel('Directors')\n",
        "plt.ylabel('Count')\n",
        "plt.title('Top 8 Directors in Disney+ Movies')\n",
        "plt.xticks(rotation = 60)"
      ]
    },
    {
      "cell_type": "markdown",
      "metadata": {
        "id": "S4X5_2yxySnt"
      },
      "source": [
        "#### Answer: Jack Hannah, an American animator, writer, and director, has worked with Disney+ movies/tv shows the most. He worked on 17 movies and tv shows."
      ]
    },
    {
      "cell_type": "markdown",
      "metadata": {
        "id": "DHBCm1JT8Lxs"
      },
      "source": [
        "#### Q4. What are the top 10 genres on Disney+? Also, how the genres have changed over time?"
      ]
    },
    {
      "cell_type": "code",
      "execution_count": 244,
      "metadata": {
        "colab": {
          "base_uri": "https://localhost:8080/",
          "height": 374
        },
        "id": "_NKySvCowHLl",
        "outputId": "dc6508ba-c31e-4f50-a643-a2cb8bc43f0a"
      },
      "outputs": [
        {
          "data": {
            "text/plain": [
              "([0, 1, 2, 3, 4, 5, 6, 7, 8, 9],\n",
              " [Text(0, 0, ''),\n",
              "  Text(0, 0, ''),\n",
              "  Text(0, 0, ''),\n",
              "  Text(0, 0, ''),\n",
              "  Text(0, 0, ''),\n",
              "  Text(0, 0, ''),\n",
              "  Text(0, 0, ''),\n",
              "  Text(0, 0, ''),\n",
              "  Text(0, 0, ''),\n",
              "  Text(0, 0, '')])"
            ]
          },
          "execution_count": 244,
          "metadata": {},
          "output_type": "execute_result"
        },
        {
          "data": {
            "image/png": "[encoded data removed]",
            "text/plain": [
              "<Figure size 432x288 with 1 Axes>"
            ]
          },
          "metadata": {
            "needs_background": "light"
          },
          "output_type": "display_data"
        }
      ],
      "source": [
        "genre_counter = column_to_counter('listed_in', disney)\n",
        "\n",
        "plt.bar(genre_counter.index[:10],genre_counter.values[:10])\n",
        "plt.xlabel('Genres')\n",
        "plt.ylabel('Count')\n",
        "plt.title('Top 10 Genres in Disney+')\n",
        "plt.xticks(rotation = 90)"
      ]
    },
    {
      "cell_type": "code",
      "execution_count": 229,
      "metadata": {},
      "outputs": [],
      "source": [
        "from collections import defaultdict"
      ]
    },
    {
      "cell_type": "code",
      "execution_count": 270,
      "metadata": {},
      "outputs": [
        {
          "data": {
            "text/plain": [
              "Text(0.5, 0, 'Years')"
            ]
          },
          "execution_count": 270,
          "metadata": {},
          "output_type": "execute_result"
        },
        {
          "data": {
            "image/png": "[encoded data removed]",
            "text/plain": [
              "<Figure size 432x288 with 1 Axes>"
            ]
          },
          "metadata": {
            "needs_background": "light"
          },
          "output_type": "display_data"
        }
      ],
      "source": [
        "genre_counter = column_to_counter('listed_in', disney)\n",
        "unique_genres_init = dict.fromkeys(genre_counter.index[:], 0)\n",
        "\n",
        "data = defaultdict(list)\n",
        "genres = disney['listed_in']\n",
        "years = []\n",
        "\n",
        "disney_groupby = disney.groupby('release_year')['listed_in']\n",
        "\n",
        "for year, series in disney_groupby:\n",
        "    unique_genres_dict = dict.fromkeys(unique_genres_init, 0)\n",
        "\n",
        "    series_1 = [x.strip() for x in series if x]\n",
        "    series_2 = ','.join(series_1)\n",
        "    series_3 = series_2.split(',')\n",
        "    series_4 = [x.strip() for x in series_3 if x]\n",
        "    genre_counter = Counter(series_4)\n",
        "\n",
        "    if 2021 > year > 2003:\n",
        "        years.append(year)\n",
        "\n",
        "        for genre in genre_counter:\n",
        "            unique_genres_dict[genre] = genre_counter[genre]\n",
        "        \n",
        "        for key, value in unique_genres_dict.items():\n",
        "            data[key].append(value)\n",
        "\n",
        "plt.stackplot(years, list(data.values())[:5], labels = list(data.keys())[:5])\n",
        "plt.legend(loc='upper left')\n",
        "plt.xlabel('Years')\n"
      ]
    },
    {
      "cell_type": "markdown",
      "metadata": {},
      "source": [
        "Answer: The top 3 movie genres are Family, Animation, and Comedy."
      ]
    },
    {
      "cell_type": "markdown",
      "metadata": {
        "id": "32cBoPOQ1FRx"
      },
      "source": [
        "#### Q5. Were there more or less family-friendly movies and TV shows over time?\n"
      ]
    },
    {
      "cell_type": "code",
      "execution_count": 298,
      "metadata": {
        "colab": {
          "base_uri": "https://localhost:8080/",
          "height": 297
        },
        "id": "B3Y7Z6Jv12R_",
        "outputId": "5d5f337d-25f3-45c6-f37c-a2d4f1afd7e2"
      },
      "outputs": [
        {
          "data": {
            "text/plain": [
              "<AxesSubplot:xlabel='release_year,family_friendly'>"
            ]
          },
          "execution_count": 298,
          "metadata": {},
          "output_type": "execute_result"
        },
        {
          "data": {
            "image/png": "[encoded data removed]",
            "text/plain": [
              "<Figure size 432x288 with 1 Axes>"
            ]
          },
          "metadata": {
            "needs_background": "light"
          },
          "output_type": "display_data"
        }
      ],
      "source": [
        "a = disney.groupby('release_year')['family_friendly'].value_counts()\n",
        "a.plot(kind = 'bar',stacked = False)"
      ]
    },
    {
      "cell_type": "markdown",
      "metadata": {
        "id": "Dhcx15icygs_"
      },
      "source": [
        "#### Answer: The number of family-friendly movies and TV shows increased over time"
      ]
    },
    {
      "cell_type": "markdown",
      "metadata": {
        "id": "pGQBVoDv4qbI"
      },
      "source": [
        "#### Q6. Did the duration of movies get longer or shorter over time?"
      ]
    },
    {
      "cell_type": "code",
      "execution_count": 301,
      "metadata": {
        "colab": {
          "base_uri": "https://localhost:8080/",
          "height": 297
        },
        "id": "7m_9rP_x2qR4",
        "outputId": "b22fba13-5e18-42c3-d105-f42d86ca00a6"
      },
      "outputs": [
        {
          "data": {
            "text/plain": [
              "Text(0, 0.5, 'Average Duration in Minutes')"
            ]
          },
          "execution_count": 301,
          "metadata": {},
          "output_type": "execute_result"
        },
        {
          "data": {
            "image/png": "[encoded data removed]",
            "text/plain": [
              "<Figure size 432x288 with 1 Axes>"
            ]
          },
          "metadata": {
            "needs_background": "light"
          },
          "output_type": "display_data"
        }
      ],
      "source": [
        "dismovdur = disney_movies.groupby('release_year')['duration_int'].mean()\n",
        "dismovdur.plot(kind = 'line')\n",
        "plt.xlabel('Release Year')\n",
        "plt.ylabel('Average Duration in Minutes')"
      ]
    },
    {
      "cell_type": "markdown",
      "metadata": {
        "id": "hXR_LtRIylUM"
      },
      "source": [
        "Answer: The duration of movies peaked in the 1960's, and has been decreasing since then"
      ]
    }
  ],
  "metadata": {
    "colab": {
      "collapsed_sections": [],
      "name": "mgt351_project.ipynb",
      "provenance": []
    },
    "interpreter": {
      "hash": "ed7cf9a39b27818acd42e7966255cfb8e91c0a4a346a1bf836e8b24b6cdfba19"
    },
    "kernelspec": {
      "display_name": "Python 3.8.5 64-bit ('base': conda)",
      "language": "python",
      "name": "python3"
    },
    "language_info": {
      "codemirror_mode": {
        "name": "ipython",
        "version": 3
      },
      "file_extension": ".py",
      "mimetype": "text/x-python",
      "name": "python",
      "nbconvert_exporter": "python",
      "pygments_lexer": "ipython3",
      "version": "3.8.5"
    },
    "orig_nbformat": 4
  },
  "nbformat": 4,
  "nbformat_minor": 0
}
