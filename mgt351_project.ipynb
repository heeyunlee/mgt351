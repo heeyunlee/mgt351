{
 "cells": [
  {
   "cell_type": "markdown",
   "metadata": {},
   "source": [
    "This is project for MGT351\n",
    "Group Members: Heeyun Lee, Sarah Chun, Angie Siguenza"
   ]
  },
  {
   "cell_type": "markdown",
   "metadata": {},
   "source": [
    "Introduction"
   ]
  },
  {
   "cell_type": "markdown",
   "metadata": {},
   "source": []
  },
  {
   "cell_type": "markdown",
   "metadata": {},
   "source": [
    "Explain the variables (columns) you used (be explicit, e.g, indicate units where relevant)"
   ]
  },
  {
   "cell_type": "markdown",
   "metadata": {},
   "source": []
  },
  {
   "cell_type": "markdown",
   "metadata": {},
   "source": [
    "Data preparation"
   ]
  },
  {
   "cell_type": "code",
   "execution_count": 2,
   "metadata": {},
   "outputs": [],
   "source": [
    "import pandas as pd\n",
    "import numpy as np\n",
    "import matplotlib.pyplot as plt"
   ]
  },
  {
   "cell_type": "code",
   "execution_count": 11,
   "metadata": {},
   "outputs": [],
   "source": [
    "movies = pd.read_csv('disney_plus_titles.csv')\n",
    "movies = movies.fillna('')"
   ]
  },
  {
   "cell_type": "code",
   "execution_count": 12,
   "metadata": {},
   "outputs": [
    {
     "name": "stdout",
     "output_type": "stream",
     "text": [
      "<class 'pandas.core.frame.DataFrame'>\n",
      "RangeIndex: 1368 entries, 0 to 1367\n",
      "Data columns (total 12 columns):\n",
      " #   Column        Non-Null Count  Dtype \n",
      "---  ------        --------------  ----- \n",
      " 0   show_id       1368 non-null   object\n",
      " 1   type          1368 non-null   object\n",
      " 2   title         1368 non-null   object\n",
      " 3   director      1368 non-null   object\n",
      " 4   cast          1368 non-null   object\n",
      " 5   country       1368 non-null   object\n",
      " 6   date_added    1368 non-null   object\n",
      " 7   release_year  1368 non-null   int64 \n",
      " 8   rating        1368 non-null   object\n",
      " 9   duration      1368 non-null   object\n",
      " 10  listed_in     1368 non-null   object\n",
      " 11  description   1368 non-null   object\n",
      "dtypes: int64(1), object(11)\n",
      "memory usage: 128.4+ KB\n"
     ]
    }
   ],
   "source": [
    "movies.info()"
   ]
  },
  {
   "cell_type": "markdown",
   "metadata": {},
   "source": [
    "# Questions and answers (Exploratory Data Analysis)"
   ]
  },
  {
   "cell_type": "markdown",
   "metadata": {},
   "source": [
    "Q5. Which directors have the most movies on Disney+?"
   ]
  },
  {
   "cell_type": "code",
   "execution_count": 21,
   "metadata": {},
   "outputs": [
    {
     "data": {
      "text/plain": [
       "<AxesSubplot:xlabel='director'>"
      ]
     },
     "execution_count": 21,
     "metadata": {},
     "output_type": "execute_result"
    },
    {
     "data": {
      "image/png": "[encoded data removed]",
      "text/plain": [
       "<Figure size 432x288 with 1 Axes>"
      ]
     },
     "metadata": {
      "needs_background": "light"
     },
     "output_type": "display_data"
    }
   ],
   "source": [
    "directors = []\n",
    "\n",
    "# Creating list of directors\n",
    "for director in movies['director']:\n",
    "    director_split = director.split(',')\n",
    "    director_strip = list(map(str.strip,director_split))\n",
    "\n",
    "    directors += director_strip\n",
    "\n",
    "# Getting rid of empty strings\n",
    "directors = [i for i in directors if i]\n",
    "\n",
    "# Creating directors DataFrame\n",
    "directors_df = pd.DataFrame(directors, columns = ['director'])\n",
    "\n",
    "# Creating counter, then sorting values, then plotting first 10 values\n",
    "directors_df.groupby('director')['director'].count().sort_values(ascending = False)[:10].plot(kind = 'bar')"
   ]
  },
  {
   "cell_type": "code",
   "execution_count": 22,
   "metadata": {},
   "outputs": [
    {
     "data": {
      "text/plain": [
       "<AxesSubplot:xlabel='genre'>"
      ]
     },
     "execution_count": 22,
     "metadata": {},
     "output_type": "execute_result"
    },
    {
     "data": {
      "image/png": "[encoded data removed]",
      "text/plain": [
       "<Figure size 432x288 with 1 Axes>"
      ]
     },
     "metadata": {
      "needs_background": "light"
     },
     "output_type": "display_data"
    }
   ],
   "source": [
    "genres = []\n",
    "\n",
    "# Creating list of genres\n",
    "for genre in movies['listed_in']:\n",
    "    genre_split = genre.split(',')\n",
    "    genre_strip = list(map(str.strip,genre_split))\n",
    "\n",
    "    genres += genre_strip\n",
    "\n",
    "# Getting rid of empty strings\n",
    "genres = [i for i in genres if i]\n",
    "\n",
    "# Creating genres DataFrame\n",
    "genres_df = pd.DataFrame(genres, columns = ['genre'])\n",
    "\n",
    "# Creating counter, then sorting values, then plotting first 10 values\n",
    "genres_df.groupby('genre')['genre'].count().sort_values(ascending = False)[:10].plot(kind = 'bar')\n"
   ]
  },
  {
   "cell_type": "markdown",
   "metadata": {},
   "source": [
    "Include a couple of plots (matplotlib) to help explain."
   ]
  },
  {
   "cell_type": "code",
   "execution_count": null,
   "metadata": {},
   "outputs": [],
   "source": []
  }
 ],
 "metadata": {
  "interpreter": {
   "hash": "ed7cf9a39b27818acd42e7966255cfb8e91c0a4a346a1bf836e8b24b6cdfba19"
  },
  "kernelspec": {
   "display_name": "Python 3.8.5 64-bit ('base': conda)",
   "language": "python",
   "name": "python3"
  },
  "language_info": {
   "codemirror_mode": {
    "name": "ipython",
    "version": 3
   },
   "file_extension": ".py",
   "mimetype": "text/x-python",
   "name": "python",
   "nbconvert_exporter": "python",
   "pygments_lexer": "ipython3",
   "version": "3.8.5"
  },
  "orig_nbformat": 4
 },
 "nbformat": 4,
 "nbformat_minor": 2
}
