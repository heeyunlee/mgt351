{
  "cells": [
    {
      "cell_type": "markdown",
      "metadata": {
        "id": "dvO9JZuQwHLT"
      },
      "source": [
        "This is project for MGT351\n",
        "Group Members: Heeyun Lee and Sarah Chun\n"
      ]
    },
    {
      "cell_type": "markdown",
      "metadata": {
        "id": "HsPYNI-NwHLZ"
      },
      "source": [
        "## Introduction"
      ]
    },
    {
      "cell_type": "markdown",
      "metadata": {
        "id": "lRMBs2wpwHLa"
      },
      "source": [
        "We used the dataset of the movies and shows listed on Disney+, a streaming service created by Disney. The dataset has 1,368 unique rows and 12 columns. We got the dataset from Kaggle: (https://www.kaggle.com/shivamb/disney-movies-and-tv-shows)"
      ]
    },
    {
      "cell_type": "markdown",
      "metadata": {
        "id": "JpTVxtQhwHLa"
      },
      "source": [
        "## Explain the variables (columns) you used (be explicit, e.g, indicate units where relevant)"
      ]
    },
    {
      "cell_type": "markdown",
      "metadata": {
        "id": "VCx9johIwHLb"
      },
      "source": [
        "The dataset includes 1368 unique rows (listing) and 11 variables.\n",
        "\n",
        "Here are what each variables mean\n",
        "- `type`: the type of a data, either tv show or movie\n",
        "- `title`: the title of the listing\n",
        "- `director`: the director(s) of the listing\n",
        "- `cast`: the cast(s) of the listing\n",
        "- `country`: a country or countries of production\n",
        "- `date_added`: a date added on Disney+\n",
        "- `release_year`: original release year of the listing\n",
        "- `rating`: a rating of the listing\n",
        "- `duration`: total duration of the listing. Minutes for the movies and seasons for tv shows\n",
        "- `listed_in`: the genre(s) of the listing\n",
        "- `description`: the description of the listing\n",
        "\n",
        "Except `release_year`, all varaibles were strings. In our current analysis, we used `duration`, `director`, `listed_in`, `release_year`, and `cast` variables.\n",
        "\n",
        "To answer questions that were on only movies or only TV shows, we filtered out the original file by type and created separate data frames for each. Before creating one for movies, we added another column called \"duration int\", which is the duration without \"min\".\n",
        "\n",
        "For director, cast, and genres, we first created a list for each separating by commas, got rid of empty strings, and then turned it into a data frame."
      ]
    },
    {
      "cell_type": "markdown",
      "metadata": {
        "id": "JH7J5-fXwHLb"
      },
      "source": [
        "## Data preparation"
      ]
    },
    {
      "cell_type": "code",
      "execution_count": 1,
      "metadata": {
        "id": "prmcaBnNwHLc"
      },
      "outputs": [],
      "source": [
        "import pandas as pd\n",
        "import numpy as np\n",
        "import matplotlib.pyplot as plt\n",
        "from collections import Counter"
      ]
    },
    {
      "cell_type": "code",
      "execution_count": 2,
      "metadata": {
        "id": "7jfE2eRgYnJ4"
      },
      "outputs": [],
      "source": [
        "disney = pd.read_csv('disney_plus_titles.csv')"
      ]
    },
    {
      "cell_type": "code",
      "execution_count": 3,
      "metadata": {
        "colab": {
          "base_uri": "https://localhost:8080/"
        },
        "id": "Hhs6GI0eYkWK",
        "outputId": "38bbd380-17a6-4624-da0e-d970998aa890"
      },
      "outputs": [
        {
          "name": "stdout",
          "output_type": "stream",
          "text": [
            "<class 'pandas.core.frame.DataFrame'>\n",
            "RangeIndex: 1368 entries, 0 to 1367\n",
            "Data columns (total 12 columns):\n",
            " #   Column        Non-Null Count  Dtype \n",
            "---  ------        --------------  ----- \n",
            " 0   show_id       1368 non-null   object\n",
            " 1   type          1368 non-null   object\n",
            " 2   title         1368 non-null   object\n",
            " 3   director      928 non-null    object\n",
            " 4   cast          1194 non-null   object\n",
            " 5   country       1193 non-null   object\n",
            " 6   date_added    1365 non-null   object\n",
            " 7   release_year  1368 non-null   int64 \n",
            " 8   rating        1366 non-null   object\n",
            " 9   duration      1368 non-null   object\n",
            " 10  listed_in     1368 non-null   object\n",
            " 11  description   1368 non-null   object\n",
            "dtypes: int64(1), object(11)\n",
            "memory usage: 128.4+ KB\n"
          ]
        }
      ],
      "source": [
        "disney.info()"
      ]
    },
    {
      "cell_type": "code",
      "execution_count": 4,
      "metadata": {
        "id": "rsz8za_awHLe"
      },
      "outputs": [],
      "source": [
        "# For now, we decided to fill NAs with empty string to do data analysis. \n",
        "# Howver, this might change later.\n",
        "\n",
        "disney = disney.fillna('')"
      ]
    },
    {
      "cell_type": "code",
      "execution_count": 5,
      "metadata": {
        "id": "W-HeHWq9xabF"
      },
      "outputs": [],
      "source": [
        "disney['duration_int'] = disney['duration'].str.strip('min')\n",
        "disney       ## just to see new column without “min”\n",
        "\n",
        "## Splitting the data by type\n",
        "disney_movies, disney_tv_shows = [i for i, i in disney.groupby(disney['type'] == 'TV Show')]"
      ]
    },
    {
      "cell_type": "code",
      "execution_count": 6,
      "metadata": {
        "colab": {
          "base_uri": "https://localhost:8080/",
          "height": 712
        },
        "id": "CiG2iZGGxfWf",
        "outputId": "32786bc3-89a8-4312-be18-b9afa6106667"
      },
      "outputs": [
        {
          "data": {
            "text/plain": [
              "pandas.core.frame.DataFrame"
            ]
          },
          "execution_count": 6,
          "metadata": {},
          "output_type": "execute_result"
        }
      ],
      "source": [
        "type(disney_movies.head())"
      ]
    },
    {
      "cell_type": "code",
      "execution_count": 7,
      "metadata": {
        "colab": {
          "base_uri": "https://localhost:8080/",
          "height": 573
        },
        "id": "M0Fe6WeVxiwM",
        "outputId": "ace7989e-506a-4bc3-b961-1f1564e9fda1"
      },
      "outputs": [
        {
          "data": {
            "text/html": [
              "<div>\n",
              "<style scoped>\n",
              "    .dataframe tbody tr th:only-of-type {\n",
              "        vertical-align: middle;\n",
              "    }\n",
              "\n",
              "    .dataframe tbody tr th {\n",
              "        vertical-align: top;\n",
              "    }\n",
              "\n",
              "    .dataframe thead th {\n",
              "        text-align: right;\n",
              "    }\n",
              "</style>\n",
              "<table border=\"1\" class=\"dataframe\">\n",
              "  <thead>\n",
              "    <tr style=\"text-align: right;\">\n",
              "      <th></th>\n",
              "      <th>show_id</th>\n",
              "      <th>type</th>\n",
              "      <th>title</th>\n",
              "      <th>director</th>\n",
              "      <th>cast</th>\n",
              "      <th>country</th>\n",
              "      <th>date_added</th>\n",
              "      <th>release_year</th>\n",
              "      <th>rating</th>\n",
              "      <th>duration</th>\n",
              "      <th>listed_in</th>\n",
              "      <th>description</th>\n",
              "      <th>duration_int</th>\n",
              "    </tr>\n",
              "  </thead>\n",
              "  <tbody>\n",
              "    <tr>\n",
              "      <th>3</th>\n",
              "      <td>s4</td>\n",
              "      <td>TV Show</td>\n",
              "      <td>Dog: Impossible</td>\n",
              "      <td></td>\n",
              "      <td>Matt Beisner</td>\n",
              "      <td>United States</td>\n",
              "      <td>September 22, 2021</td>\n",
              "      <td>2019</td>\n",
              "      <td>TV-PG</td>\n",
              "      <td>2 Seasons</td>\n",
              "      <td>Animals &amp; Nature, Docuseries, Family</td>\n",
              "      <td>Matt Beisner uses unique approaches to modifyi...</td>\n",
              "      <td>2 Seasons</td>\n",
              "    </tr>\n",
              "    <tr>\n",
              "      <th>4</th>\n",
              "      <td>s5</td>\n",
              "      <td>TV Show</td>\n",
              "      <td>Spidey And His Amazing Friends</td>\n",
              "      <td></td>\n",
              "      <td>Benjamin Valic, Lily Sanfelippo, Jakari Fraser...</td>\n",
              "      <td>United States</td>\n",
              "      <td>September 22, 2021</td>\n",
              "      <td>2021</td>\n",
              "      <td>TV-Y</td>\n",
              "      <td>1 Season</td>\n",
              "      <td>Action-Adventure, Animation, Kids</td>\n",
              "      <td>Spidey teams up with pals to become The Spidey...</td>\n",
              "      <td>1 Seaso</td>\n",
              "    </tr>\n",
              "    <tr>\n",
              "      <th>5</th>\n",
              "      <td>s6</td>\n",
              "      <td>TV Show</td>\n",
              "      <td>Star Wars: Visions</td>\n",
              "      <td></td>\n",
              "      <td></td>\n",
              "      <td></td>\n",
              "      <td>September 22, 2021</td>\n",
              "      <td>2021</td>\n",
              "      <td>TV-PG</td>\n",
              "      <td>1 Season</td>\n",
              "      <td>Action-Adventure, Animation, Anime</td>\n",
              "      <td>An animated anthology celebrating Star Wars th...</td>\n",
              "      <td>1 Seaso</td>\n",
              "    </tr>\n",
              "    <tr>\n",
              "      <th>13</th>\n",
              "      <td>s14</td>\n",
              "      <td>TV Show</td>\n",
              "      <td>Life Below Zero</td>\n",
              "      <td></td>\n",
              "      <td>Chip Hailstone, Agnes Hailstone, Sue Aikens, A...</td>\n",
              "      <td>United States</td>\n",
              "      <td>September 15, 2021</td>\n",
              "      <td>2012</td>\n",
              "      <td>TV-14</td>\n",
              "      <td>16 Seasons</td>\n",
              "      <td>Action-Adventure, Animals &amp; Nature, Docuseries</td>\n",
              "      <td>Experience life deep in Alaska where the prima...</td>\n",
              "      <td>16 Seasons</td>\n",
              "    </tr>\n",
              "    <tr>\n",
              "      <th>14</th>\n",
              "      <td>s15</td>\n",
              "      <td>TV Show</td>\n",
              "      <td>Miraculous: Tales Of Ladybug &amp; Cat Noir</td>\n",
              "      <td></td>\n",
              "      <td>Cristina Vee, Bryce Papenbrook, Keith Silverst...</td>\n",
              "      <td>France, South Korea, Japan, United States</td>\n",
              "      <td>September 15, 2021</td>\n",
              "      <td>2015</td>\n",
              "      <td>TV-Y7</td>\n",
              "      <td>1 Season</td>\n",
              "      <td>Action-Adventure, Animation, Fantasy</td>\n",
              "      <td>Superheroes Ladybug and Cat Noir protect the c...</td>\n",
              "      <td>1 Seaso</td>\n",
              "    </tr>\n",
              "  </tbody>\n",
              "</table>\n",
              "</div>"
            ],
            "text/plain": [
              "   show_id     type                                    title director  \\\n",
              "3       s4  TV Show                          Dog: Impossible            \n",
              "4       s5  TV Show           Spidey And His Amazing Friends            \n",
              "5       s6  TV Show                       Star Wars: Visions            \n",
              "13     s14  TV Show                          Life Below Zero            \n",
              "14     s15  TV Show  Miraculous: Tales Of Ladybug & Cat Noir            \n",
              "\n",
              "                                                 cast  \\\n",
              "3                                        Matt Beisner   \n",
              "4   Benjamin Valic, Lily Sanfelippo, Jakari Fraser...   \n",
              "5                                                       \n",
              "13  Chip Hailstone, Agnes Hailstone, Sue Aikens, A...   \n",
              "14  Cristina Vee, Bryce Papenbrook, Keith Silverst...   \n",
              "\n",
              "                                      country          date_added  \\\n",
              "3                               United States  September 22, 2021   \n",
              "4                               United States  September 22, 2021   \n",
              "5                                              September 22, 2021   \n",
              "13                              United States  September 15, 2021   \n",
              "14  France, South Korea, Japan, United States  September 15, 2021   \n",
              "\n",
              "    release_year rating    duration  \\\n",
              "3           2019  TV-PG   2 Seasons   \n",
              "4           2021   TV-Y    1 Season   \n",
              "5           2021  TV-PG    1 Season   \n",
              "13          2012  TV-14  16 Seasons   \n",
              "14          2015  TV-Y7    1 Season   \n",
              "\n",
              "                                         listed_in  \\\n",
              "3             Animals & Nature, Docuseries, Family   \n",
              "4                Action-Adventure, Animation, Kids   \n",
              "5               Action-Adventure, Animation, Anime   \n",
              "13  Action-Adventure, Animals & Nature, Docuseries   \n",
              "14            Action-Adventure, Animation, Fantasy   \n",
              "\n",
              "                                          description duration_int  \n",
              "3   Matt Beisner uses unique approaches to modifyi...    2 Seasons  \n",
              "4   Spidey teams up with pals to become The Spidey...      1 Seaso  \n",
              "5   An animated anthology celebrating Star Wars th...      1 Seaso  \n",
              "13  Experience life deep in Alaska where the prima...   16 Seasons  \n",
              "14  Superheroes Ladybug and Cat Noir protect the c...      1 Seaso  "
            ]
          },
          "execution_count": 7,
          "metadata": {},
          "output_type": "execute_result"
        }
      ],
      "source": [
        "disney_tv_shows.head()"
      ]
    },
    {
      "cell_type": "markdown",
      "metadata": {
        "id": "nnyXIQznwHLi"
      },
      "source": [
        "# Questions and answers (Exploratory Data Analysis)\n",
        "\n",
        "Below, we explore data and try to answer few questions"
      ]
    },
    {
      "cell_type": "code",
      "execution_count": 8,
      "metadata": {},
      "outputs": [],
      "source": [
        "# This function gets column name and DataFrame as the parameter and returns the counter\n",
        "def column_to_counter(column_name: str, data_frame: pd.DataFrame):\n",
        "    starting_list = []\n",
        "\n",
        "    # Creating the list of strings from df\n",
        "    for item in data_frame[column_name]:\n",
        "        item_split = str(item).split(',')\n",
        "        item_strip = [x.strip() for x in item_split if x]\n",
        "\n",
        "        starting_list += item_strip\n",
        "    \n",
        "    # Creating DataFrame to groupby, sort_values, and plot\n",
        "    starting_list_df = pd.DataFrame(starting_list, columns = [column_name])\n",
        "\n",
        "    # Creating the counter\n",
        "    counter = starting_list_df.groupby(column_name)[column_name].count().sort_values(ascending = False)\n",
        "\n",
        "    return counter\n",
        "    "
      ]
    },
    {
      "cell_type": "markdown",
      "metadata": {
        "id": "ojeWcdxvxqzs"
      },
      "source": [
        "### Q1. Who is the most casted TV show actor, and how many TV shows are they a part of?"
      ]
    },
    {
      "cell_type": "code",
      "execution_count": 9,
      "metadata": {
        "colab": {
          "base_uri": "https://localhost:8080/"
        },
        "id": "JYSMQnWHxxBr",
        "outputId": "8f1ab383-6b61-4769-a9be-f23a19b20bbd"
      },
      "outputs": [
        {
          "data": {
            "text/plain": [
              "<AxesSubplot:xlabel='cast'>"
            ]
          },
          "execution_count": 9,
          "metadata": {},
          "output_type": "execute_result"
        },
        {
          "data": {
            "image/png": "[encoded data removed]",
            "text/plain": [
              "<Figure size 432x288 with 1 Axes>"
            ]
          },
          "metadata": {
            "needs_background": "light"
          },
          "output_type": "display_data"
        }
      ],
      "source": [
        "counter = column_to_counter('cast', disney_tv_shows)\n",
        "counter[:15].plot(kind = 'bar')"
      ]
    },
    {
      "cell_type": "markdown",
      "metadata": {
        "id": "h6CJkU-ex3yo"
      },
      "source": [
        "#### Answer: Jim Cummings is the most casted TV show actor. He is a part of 13 TV shows on Disney+"
      ]
    },
    {
      "cell_type": "markdown",
      "metadata": {
        "id": "OS2DnXKMxD66"
      },
      "source": [
        "### Q2. What percentage of movies have a duration longer than 80 minutes?"
      ]
    },
    {
      "cell_type": "code",
      "execution_count": 10,
      "metadata": {
        "colab": {
          "base_uri": "https://localhost:8080/"
        },
        "id": "jnLE0IBvxKZj",
        "outputId": "fc7a1a3d-0407-43c7-8815-cb47f64e8f6f"
      },
      "outputs": [
        {
          "data": {
            "text/plain": [
              "44.803229061553985"
            ]
          },
          "execution_count": 10,
          "metadata": {},
          "output_type": "execute_result"
        }
      ],
      "source": [
        "disney_movies['duration_int'] = disney_movies['duration_int'].astype(int)\n",
        "sum(disney_movies['duration_int'] > 88) / len(disney_movies) * 100"
      ]
    },
    {
      "cell_type": "markdown",
      "metadata": {
        "id": "pdgDN4nqyLcI"
      },
      "source": [
        "#### Answer: 44.8% of the movies have a duration of more than 80 minutes"
      ]
    },
    {
      "cell_type": "markdown",
      "metadata": {
        "id": "YotDaugFwHLj"
      },
      "source": [
        "### Q3. Which directors have the most movies on Disney+?"
      ]
    },
    {
      "cell_type": "code",
      "execution_count": 11,
      "metadata": {
        "colab": {
          "base_uri": "https://localhost:8080/",
          "height": 375
        },
        "id": "fB4bHrymwHLk",
        "outputId": "5e319f3f-fe79-4f80-85e5-38d35abb2f3e"
      },
      "outputs": [
        {
          "data": {
            "text/plain": [
              "<AxesSubplot:xlabel='director'>"
            ]
          },
          "execution_count": 11,
          "metadata": {},
          "output_type": "execute_result"
        },
        {
          "data": {
            "image/png": "[encoded data removed]",
            "text/plain": [
              "<Figure size 432x288 with 1 Axes>"
            ]
          },
          "metadata": {
            "needs_background": "light"
          },
          "output_type": "display_data"
        }
      ],
      "source": [
        "director_counter = column_to_counter('director', disney)\n",
        "director_counter[:15].plot(kind = 'bar')"
      ]
    },
    {
      "cell_type": "markdown",
      "metadata": {
        "id": "S4X5_2yxySnt"
      },
      "source": [
        "#### Answer: Jack Hannah, an American animator, writer, and director, has worked with Disney+ movies/tv shows the most. He worked on 17 movies and tv shows."
      ]
    },
    {
      "cell_type": "markdown",
      "metadata": {
        "id": "DHBCm1JT8Lxs"
      },
      "source": [
        "### Q4. What are the top 3 movie genres on Disney Plus?"
      ]
    },
    {
      "cell_type": "code",
      "execution_count": 12,
      "metadata": {
        "colab": {
          "base_uri": "https://localhost:8080/",
          "height": 374
        },
        "id": "_NKySvCowHLl",
        "outputId": "dc6508ba-c31e-4f50-a643-a2cb8bc43f0a"
      },
      "outputs": [
        {
          "data": {
            "text/plain": [
              "Text(0.5, 0, 'Genre')"
            ]
          },
          "execution_count": 12,
          "metadata": {},
          "output_type": "execute_result"
        },
        {
          "data": {
            "image/png": "[encoded data removed]",
            "text/plain": [
              "<Figure size 432x288 with 1 Axes>"
            ]
          },
          "metadata": {
            "needs_background": "light"
          },
          "output_type": "display_data"
        }
      ],
      "source": [
        "genre_counter = column_to_counter('listed_in', disney)\n",
        "genre_counter_plot = genre_counter[:15].plot(kind = 'bar')\n",
        "\n",
        "genre_counter_plot.set_xlabel('Genre')"
      ]
    },
    {
      "cell_type": "markdown",
      "metadata": {
        "id": "F5gEytaEybqH"
      },
      "source": [
        "#### Answer: The top 3 movie genres are Family, Animation, and Comedy"
      ]
    },
    {
      "cell_type": "markdown",
      "metadata": {
        "id": "32cBoPOQ1FRx"
      },
      "source": [
        "### Q5. Were there more or less family-friendly movies and TV shows over time?\n"
      ]
    },
    {
      "cell_type": "code",
      "execution_count": 13,
      "metadata": {
        "colab": {
          "base_uri": "https://localhost:8080/",
          "height": 297
        },
        "id": "B3Y7Z6Jv12R_",
        "outputId": "5d5f337d-25f3-45c6-f37c-a2d4f1afd7e2"
      },
      "outputs": [
        {
          "data": {
            "text/plain": [
              "<AxesSubplot:xlabel='release_year'>"
            ]
          },
          "execution_count": 13,
          "metadata": {},
          "output_type": "execute_result"
        },
        {
          "data": {
            "image/png": "[encoded data removed]",
            "text/plain": [
              "<Figure size 432x288 with 1 Axes>"
            ]
          },
          "metadata": {
            "needs_background": "light"
          },
          "output_type": "display_data"
        }
      ],
      "source": [
        "condition2 = disney['listed_in'].str.contains('Family')\n",
        "disney[condition2].groupby('release_year')['title'].count().plot(kind = 'line')"
      ]
    },
    {
      "cell_type": "markdown",
      "metadata": {
        "id": "Dhcx15icygs_"
      },
      "source": [
        "#### Answer: The number of family-friendly movies and TV shows increased over time"
      ]
    },
    {
      "cell_type": "markdown",
      "metadata": {
        "id": "pGQBVoDv4qbI"
      },
      "source": [
        "### Q6. Did the duration of movies get longer or shorter over time?"
      ]
    },
    {
      "cell_type": "code",
      "execution_count": 14,
      "metadata": {
        "colab": {
          "base_uri": "https://localhost:8080/",
          "height": 297
        },
        "id": "7m_9rP_x2qR4",
        "outputId": "b22fba13-5e18-42c3-d105-f42d86ca00a6"
      },
      "outputs": [
        {
          "data": {
            "text/plain": [
              "<AxesSubplot:xlabel='release_year'>"
            ]
          },
          "execution_count": 14,
          "metadata": {},
          "output_type": "execute_result"
        },
        {
          "data": {
            "image/png": "[encoded data removed]",
            "text/plain": [
              "<Figure size 432x288 with 1 Axes>"
            ]
          },
          "metadata": {
            "needs_background": "light"
          },
          "output_type": "display_data"
        }
      ],
      "source": [
        "dismovdur = disney_movies.groupby('release_year')['duration_int'].mean()\n",
        "dismovdur.plot(kind = 'line')"
      ]
    },
    {
      "cell_type": "markdown",
      "metadata": {
        "id": "hXR_LtRIylUM"
      },
      "source": [
        "#### Answer: The duration of movies peaked in the 1960's, and has been decreasing since then"
      ]
    }
  ],
  "metadata": {
    "colab": {
      "collapsed_sections": [],
      "name": "mgt351_project.ipynb",
      "provenance": []
    },
    "interpreter": {
      "hash": "ed7cf9a39b27818acd42e7966255cfb8e91c0a4a346a1bf836e8b24b6cdfba19"
    },
    "kernelspec": {
      "display_name": "Python 3.8.5 64-bit ('base': conda)",
      "language": "python",
      "name": "python3"
    },
    "language_info": {
      "codemirror_mode": {
        "name": "ipython",
        "version": 3
      },
      "file_extension": ".py",
      "mimetype": "text/x-python",
      "name": "python",
      "nbconvert_exporter": "python",
      "pygments_lexer": "ipython3",
      "version": "3.8.5"
    },
    "orig_nbformat": 4
  },
  "nbformat": 4,
  "nbformat_minor": 0
}
