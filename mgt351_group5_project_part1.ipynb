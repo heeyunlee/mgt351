{
  "cells": [
    {
      "cell_type": "markdown",
      "metadata": {
        "id": "dvO9JZuQwHLT"
      },
      "source": [
        "This is project for MGT351\n",
        "Group Members: Heeyun Lee and Sarah Chun\n"
      ]
    },
    {
      "cell_type": "markdown",
      "metadata": {
        "id": "HsPYNI-NwHLZ"
      },
      "source": [
        "## Introduction"
      ]
    },
    {
      "cell_type": "markdown",
      "metadata": {
        "id": "lRMBs2wpwHLa"
      },
      "source": [
        "We used the dataset of the movies and shows listed on Disney+, a streaming service created by Disney. The dataset has 1,368 unique rows and 12 columns. We got the dataset from [Kaggle](https://www.kaggle.com/shivamb/disney-movies-and-tv-shows)"
      ]
    },
    {
      "cell_type": "markdown",
      "metadata": {
        "id": "JpTVxtQhwHLa"
      },
      "source": [
        "## Explain the variables (columns) you used (be explicit, e.g, indicate units where relevant)"
      ]
    },
    {
      "cell_type": "markdown",
      "metadata": {
        "id": "VCx9johIwHLb"
      },
      "source": [
        "The dataset includes 1368 unique rows (listing) and 11 variables.\n",
        "\n",
        "Here are what each variables mean\n",
        "- `type`: the type of a data, either tv show or movie\n",
        "- `title`: the title of the listing\n",
        "- `director`: the director(s) of the listing\n",
        "- `cast`: the cast(s) of the listing\n",
        "- `country`: a country or countries of production\n",
        "- `date_added`: a date added on Disney+\n",
        "- `release_year`: original release year of the listing\n",
        "- `rating`: a rating of the listing\n",
        "- `duration`: total duration of the listing. Minutes for the movies and seasons for tv shows\n",
        "- `listed_in`: the genre(s) of the listing\n",
        "- `description`: the description of the listing\n",
        "\n",
        "Except `release_year`, all varaibles were strings. In our current analysis, we used `duration`, `director`, `listed_in`, `release_year`, and `cast` variables.\n",
        "\n",
        "To answer questions that were on only movies or only TV shows, we filtered out the original file by type and created separate data frames for each. Before creating one for movies, we added another column called \"duration int\", which is the duration without \"min\".\n",
        "\n",
        "For director, cast, and genres, we first created a list for each separating by commas, got rid of empty strings, and then turned it into a data frame."
      ]
    },
    {
      "cell_type": "markdown",
      "metadata": {
        "id": "JH7J5-fXwHLb"
      },
      "source": [
        "## Data preparation"
      ]
    },
    {
      "cell_type": "code",
      "execution_count": 1,
      "metadata": {
        "id": "prmcaBnNwHLc"
      },
      "outputs": [],
      "source": [
        "import pandas as pd\n",
        "import numpy as np\n",
        "import matplotlib.pyplot as plt\n",
        "import custom_functions"
      ]
    },
    {
      "cell_type": "code",
      "execution_count": 2,
      "metadata": {
        "id": "7jfE2eRgYnJ4"
      },
      "outputs": [
        {
          "name": "stdout",
          "output_type": "stream",
          "text": [
            "<class 'pandas.core.frame.DataFrame'>\n",
            "RangeIndex: 1450 entries, 0 to 1449\n",
            "Data columns (total 12 columns):\n",
            " #   Column        Non-Null Count  Dtype \n",
            "---  ------        --------------  ----- \n",
            " 0   show_id       1450 non-null   object\n",
            " 1   type          1450 non-null   object\n",
            " 2   title         1450 non-null   object\n",
            " 3   director      977 non-null    object\n",
            " 4   cast          1260 non-null   object\n",
            " 5   country       1231 non-null   object\n",
            " 6   date_added    1447 non-null   object\n",
            " 7   release_year  1450 non-null   int64 \n",
            " 8   rating        1447 non-null   object\n",
            " 9   duration      1450 non-null   object\n",
            " 10  listed_in     1450 non-null   object\n",
            " 11  description   1450 non-null   object\n",
            "dtypes: int64(1), object(11)\n",
            "memory usage: 136.1+ KB\n"
          ]
        }
      ],
      "source": [
        "disney = pd.read_csv('disney_plus_titles.csv')\n",
        "\n",
        "disney.info()"
      ]
    },
    {
      "cell_type": "markdown",
      "metadata": {},
      "source": [
        "#### 1. Data Cleaning"
      ]
    },
    {
      "cell_type": "code",
      "execution_count": 3,
      "metadata": {
        "id": "rsz8za_awHLe"
      },
      "outputs": [
        {
          "name": "stdout",
          "output_type": "stream",
          "text": [
            "NAs at the beggining: \n",
            "show_id           0\n",
            "type              0\n",
            "title             0\n",
            "director        473\n",
            "cast            190\n",
            "country         219\n",
            "date_added        3\n",
            "release_year      0\n",
            "rating            3\n",
            "duration          0\n",
            "listed_in         0\n",
            "description       0\n",
            "dtype: int64\n"
          ]
        }
      ],
      "source": [
        "# Drop duplicates\n",
        "disney = disney.drop_duplicates(subset=['show_id'], keep='first')\n",
        "\n",
        "\n",
        "# Check for NAs\n",
        "nan_table_start = disney.isna().sum()\n",
        "print(f'NAs at the beggining: \\n{nan_table_start}')"
      ]
    },
    {
      "cell_type": "code",
      "execution_count": 4,
      "metadata": {},
      "outputs": [
        {
          "name": "stdout",
          "output_type": "stream",
          "text": [
            "632\n"
          ]
        }
      ],
      "source": [
        "print(disney.isnull().any(axis=1).sum())"
      ]
    },
    {
      "cell_type": "code",
      "execution_count": 14,
      "metadata": {},
      "outputs": [],
      "source": [
        "# Filling Rating NAs manually because there is only 3 NAs\n",
        "disney[disney['rating'].isna()].loc[:, ['title', 'rating']]\n",
        "\n",
        "# \t    title\t                        rating\n",
        "# 4\t    The Beatles: Get Back\t        NaN\n",
        "# 276\tDisney My Music Story: Perfume\tNaN\n",
        "# 280\tMarvel Studios ASSEMBLED\t    NaN\n",
        "\n",
        "disney.loc[[4,276,280], 'rating'] = 'TV-14'"
      ]
    },
    {
      "cell_type": "code",
      "execution_count": 17,
      "metadata": {},
      "outputs": [],
      "source": [
        "# There are 632 rows with at least 1 null value. For each of them, we used OMDB API to fill the missing values.\n",
        "\n",
        "for index, row in disney[disney.isnull().any(axis=1)].iterrows():\n",
        "\n",
        "    # Using custom function to get the JSON data of the movie with NA values\n",
        "    data = custom_functions.get_omdb_data(row['title'], row['release_year'])\n",
        "\n",
        "    # If the data does not exist, we skip the row\n",
        "    if pd.isna(data):\n",
        "        continue\n",
        "\n",
        "    # If the data exists, we fill the NA values with the data\n",
        "    else:\n",
        "        if pd.isna(row['director']) and (data['Director'] != 'N/A'):\n",
        "            disney.loc[index, 'director'] = data['Director']\n",
        "        \n",
        "        if pd.isna(row['cast']) and (data['Actors'] != 'N/A'):\n",
        "            disney.loc[index, 'cast'] = data['Actors']\n",
        "        \n",
        "        if pd.isna(row['country']) and (data['Country'] != 'N/A'):\n",
        "            disney.loc[index, 'country'] = data['Country']"
      ]
    },
    {
      "cell_type": "code",
      "execution_count": 18,
      "metadata": {},
      "outputs": [
        {
          "name": "stdout",
          "output_type": "stream",
          "text": [
            "NAs at the end: \n",
            "show_id           0\n",
            "type              0\n",
            "title             0\n",
            "director        443\n",
            "cast             97\n",
            "country         140\n",
            "date_added        3\n",
            "release_year      0\n",
            "rating            0\n",
            "duration          0\n",
            "listed_in         0\n",
            "description       0\n",
            "dtype: int64\n"
          ]
        }
      ],
      "source": [
        "# The result of filling NA values using REST API\n",
        "nan_table_end = disney.isna().sum()\n",
        "print(f'NAs at the end: \\n{nan_table_end}')"
      ]
    },
    {
      "cell_type": "code",
      "execution_count": 19,
      "metadata": {},
      "outputs": [],
      "source": [
        "disney.replace([np.nan, None, 'N/A'], '', inplace=True)"
      ]
    },
    {
      "cell_type": "code",
      "execution_count": 20,
      "metadata": {
        "id": "W-HeHWq9xabF"
      },
      "outputs": [],
      "source": [
        "disney['duration_int'] = disney['duration'].str.strip('min')\n",
        "disney       ## just to see new column without “min”\n",
        "\n",
        "## Splitting the data by type\n",
        "disney_movies, disney_tv_shows = [i for i, i in disney.groupby(disney['type'] == 'TV Show')]"
      ]
    },
    {
      "cell_type": "code",
      "execution_count": 21,
      "metadata": {
        "colab": {
          "base_uri": "https://localhost:8080/",
          "height": 712
        },
        "id": "CiG2iZGGxfWf",
        "outputId": "32786bc3-89a8-4312-be18-b9afa6106667"
      },
      "outputs": [
        {
          "data": {
            "text/html": [
              "<div>\n",
              "<style scoped>\n",
              "    .dataframe tbody tr th:only-of-type {\n",
              "        vertical-align: middle;\n",
              "    }\n",
              "\n",
              "    .dataframe tbody tr th {\n",
              "        vertical-align: top;\n",
              "    }\n",
              "\n",
              "    .dataframe thead th {\n",
              "        text-align: right;\n",
              "    }\n",
              "</style>\n",
              "<table border=\"1\" class=\"dataframe\">\n",
              "  <thead>\n",
              "    <tr style=\"text-align: right;\">\n",
              "      <th></th>\n",
              "      <th>show_id</th>\n",
              "      <th>type</th>\n",
              "      <th>title</th>\n",
              "      <th>director</th>\n",
              "      <th>cast</th>\n",
              "      <th>country</th>\n",
              "      <th>date_added</th>\n",
              "      <th>release_year</th>\n",
              "      <th>rating</th>\n",
              "      <th>duration</th>\n",
              "      <th>listed_in</th>\n",
              "      <th>description</th>\n",
              "      <th>duration_int</th>\n",
              "    </tr>\n",
              "  </thead>\n",
              "  <tbody>\n",
              "    <tr>\n",
              "      <th>0</th>\n",
              "      <td>s1</td>\n",
              "      <td>Movie</td>\n",
              "      <td>Duck the Halls: A Mickey Mouse Christmas Special</td>\n",
              "      <td>Alonso Ramirez Ramos, Dave Wasson</td>\n",
              "      <td>Chris Diamantopoulos, Tony Anselmo, Tress MacN...</td>\n",
              "      <td></td>\n",
              "      <td>November 26, 2021</td>\n",
              "      <td>2016</td>\n",
              "      <td>TV-G</td>\n",
              "      <td>23 min</td>\n",
              "      <td>Animation, Family</td>\n",
              "      <td>Join Mickey and the gang as they duck the halls!</td>\n",
              "      <td>23</td>\n",
              "    </tr>\n",
              "    <tr>\n",
              "      <th>1</th>\n",
              "      <td>s2</td>\n",
              "      <td>Movie</td>\n",
              "      <td>Ernest Saves Christmas</td>\n",
              "      <td>John Cherry</td>\n",
              "      <td>Jim Varney, Noelle Parker, Douglas Seale</td>\n",
              "      <td>United States</td>\n",
              "      <td>November 26, 2021</td>\n",
              "      <td>1988</td>\n",
              "      <td>PG</td>\n",
              "      <td>91 min</td>\n",
              "      <td>Comedy</td>\n",
              "      <td>Santa Claus passes his magic bag to a new St. ...</td>\n",
              "      <td>91</td>\n",
              "    </tr>\n",
              "    <tr>\n",
              "      <th>2</th>\n",
              "      <td>s3</td>\n",
              "      <td>Movie</td>\n",
              "      <td>Ice Age: A Mammoth Christmas</td>\n",
              "      <td>Karen Disher</td>\n",
              "      <td>Raymond Albert Romano, John Leguizamo, Denis L...</td>\n",
              "      <td>United States</td>\n",
              "      <td>November 26, 2021</td>\n",
              "      <td>2011</td>\n",
              "      <td>TV-G</td>\n",
              "      <td>23 min</td>\n",
              "      <td>Animation, Comedy, Family</td>\n",
              "      <td>Sid the Sloth is on Santa's naughty list.</td>\n",
              "      <td>23</td>\n",
              "    </tr>\n",
              "    <tr>\n",
              "      <th>3</th>\n",
              "      <td>s4</td>\n",
              "      <td>Movie</td>\n",
              "      <td>The Queen Family Singalong</td>\n",
              "      <td>Hamish Hamilton</td>\n",
              "      <td>Darren Criss, Adam Lambert, Derek Hough, Alexa...</td>\n",
              "      <td></td>\n",
              "      <td>November 26, 2021</td>\n",
              "      <td>2021</td>\n",
              "      <td>TV-PG</td>\n",
              "      <td>41 min</td>\n",
              "      <td>Musical</td>\n",
              "      <td>This is real life, not just fantasy!</td>\n",
              "      <td>41</td>\n",
              "    </tr>\n",
              "    <tr>\n",
              "      <th>5</th>\n",
              "      <td>s6</td>\n",
              "      <td>Movie</td>\n",
              "      <td>Becoming Cousteau</td>\n",
              "      <td>Liz Garbus</td>\n",
              "      <td>Jacques Yves Cousteau, Vincent Cassel</td>\n",
              "      <td>United States</td>\n",
              "      <td>November 24, 2021</td>\n",
              "      <td>2021</td>\n",
              "      <td>PG-13</td>\n",
              "      <td>94 min</td>\n",
              "      <td>Biographical, Documentary</td>\n",
              "      <td>An inside look at the legendary life of advent...</td>\n",
              "      <td>94</td>\n",
              "    </tr>\n",
              "  </tbody>\n",
              "</table>\n",
              "</div>"
            ],
            "text/plain": [
              "  show_id   type                                             title  \\\n",
              "0      s1  Movie  Duck the Halls: A Mickey Mouse Christmas Special   \n",
              "1      s2  Movie                            Ernest Saves Christmas   \n",
              "2      s3  Movie                      Ice Age: A Mammoth Christmas   \n",
              "3      s4  Movie                        The Queen Family Singalong   \n",
              "5      s6  Movie                                 Becoming Cousteau   \n",
              "\n",
              "                            director  \\\n",
              "0  Alonso Ramirez Ramos, Dave Wasson   \n",
              "1                        John Cherry   \n",
              "2                       Karen Disher   \n",
              "3                    Hamish Hamilton   \n",
              "5                         Liz Garbus   \n",
              "\n",
              "                                                cast        country  \\\n",
              "0  Chris Diamantopoulos, Tony Anselmo, Tress MacN...                  \n",
              "1           Jim Varney, Noelle Parker, Douglas Seale  United States   \n",
              "2  Raymond Albert Romano, John Leguizamo, Denis L...  United States   \n",
              "3  Darren Criss, Adam Lambert, Derek Hough, Alexa...                  \n",
              "5              Jacques Yves Cousteau, Vincent Cassel  United States   \n",
              "\n",
              "          date_added  release_year rating duration                  listed_in  \\\n",
              "0  November 26, 2021          2016   TV-G   23 min          Animation, Family   \n",
              "1  November 26, 2021          1988     PG   91 min                     Comedy   \n",
              "2  November 26, 2021          2011   TV-G   23 min  Animation, Comedy, Family   \n",
              "3  November 26, 2021          2021  TV-PG   41 min                    Musical   \n",
              "5  November 24, 2021          2021  PG-13   94 min  Biographical, Documentary   \n",
              "\n",
              "                                         description duration_int  \n",
              "0   Join Mickey and the gang as they duck the halls!          23   \n",
              "1  Santa Claus passes his magic bag to a new St. ...          91   \n",
              "2          Sid the Sloth is on Santa's naughty list.          23   \n",
              "3               This is real life, not just fantasy!          41   \n",
              "5  An inside look at the legendary life of advent...          94   "
            ]
          },
          "execution_count": 21,
          "metadata": {},
          "output_type": "execute_result"
        }
      ],
      "source": [
        "disney_movies.head()"
      ]
    },
    {
      "cell_type": "code",
      "execution_count": 22,
      "metadata": {
        "colab": {
          "base_uri": "https://localhost:8080/",
          "height": 573
        },
        "id": "M0Fe6WeVxiwM",
        "outputId": "ace7989e-506a-4bc3-b961-1f1564e9fda1"
      },
      "outputs": [
        {
          "data": {
            "text/html": [
              "<div>\n",
              "<style scoped>\n",
              "    .dataframe tbody tr th:only-of-type {\n",
              "        vertical-align: middle;\n",
              "    }\n",
              "\n",
              "    .dataframe tbody tr th {\n",
              "        vertical-align: top;\n",
              "    }\n",
              "\n",
              "    .dataframe thead th {\n",
              "        text-align: right;\n",
              "    }\n",
              "</style>\n",
              "<table border=\"1\" class=\"dataframe\">\n",
              "  <thead>\n",
              "    <tr style=\"text-align: right;\">\n",
              "      <th></th>\n",
              "      <th>show_id</th>\n",
              "      <th>type</th>\n",
              "      <th>title</th>\n",
              "      <th>director</th>\n",
              "      <th>cast</th>\n",
              "      <th>country</th>\n",
              "      <th>date_added</th>\n",
              "      <th>release_year</th>\n",
              "      <th>rating</th>\n",
              "      <th>duration</th>\n",
              "      <th>listed_in</th>\n",
              "      <th>description</th>\n",
              "      <th>duration_int</th>\n",
              "    </tr>\n",
              "  </thead>\n",
              "  <tbody>\n",
              "    <tr>\n",
              "      <th>4</th>\n",
              "      <td>s5</td>\n",
              "      <td>TV Show</td>\n",
              "      <td>The Beatles: Get Back</td>\n",
              "      <td>Peter Jackson</td>\n",
              "      <td>John Lennon, Paul McCartney, George Harrison, ...</td>\n",
              "      <td>United Kingdom, New Zealand, United States</td>\n",
              "      <td>November 25, 2021</td>\n",
              "      <td>2021</td>\n",
              "      <td>TV-14</td>\n",
              "      <td>1 Season</td>\n",
              "      <td>Docuseries, Historical, Music</td>\n",
              "      <td>A three-part documentary from Peter Jackson ca...</td>\n",
              "      <td>1 Seaso</td>\n",
              "    </tr>\n",
              "    <tr>\n",
              "      <th>6</th>\n",
              "      <td>s7</td>\n",
              "      <td>TV Show</td>\n",
              "      <td>Hawkeye</td>\n",
              "      <td></td>\n",
              "      <td>Jeremy Renner, Hailee Steinfeld, Vera Farmiga,...</td>\n",
              "      <td>United States</td>\n",
              "      <td>November 24, 2021</td>\n",
              "      <td>2021</td>\n",
              "      <td>TV-14</td>\n",
              "      <td>1 Season</td>\n",
              "      <td>Action-Adventure, Superhero</td>\n",
              "      <td>Clint Barton/Hawkeye must team up with skilled...</td>\n",
              "      <td>1 Seaso</td>\n",
              "    </tr>\n",
              "    <tr>\n",
              "      <th>7</th>\n",
              "      <td>s8</td>\n",
              "      <td>TV Show</td>\n",
              "      <td>Port Protection Alaska</td>\n",
              "      <td></td>\n",
              "      <td>Gary Muehlberger, Mary Miller, Curly Leach, Sa...</td>\n",
              "      <td>United States</td>\n",
              "      <td>November 24, 2021</td>\n",
              "      <td>2015</td>\n",
              "      <td>TV-14</td>\n",
              "      <td>2 Seasons</td>\n",
              "      <td>Docuseries, Reality, Survival</td>\n",
              "      <td>Residents of Port Protection must combat volat...</td>\n",
              "      <td>2 Seasons</td>\n",
              "    </tr>\n",
              "    <tr>\n",
              "      <th>8</th>\n",
              "      <td>s9</td>\n",
              "      <td>TV Show</td>\n",
              "      <td>Secrets of the Zoo: Tampa</td>\n",
              "      <td></td>\n",
              "      <td>Dr. Ray Ball, Dr. Lauren Smith, Chris Massaro,...</td>\n",
              "      <td>United States</td>\n",
              "      <td>November 24, 2021</td>\n",
              "      <td>2019</td>\n",
              "      <td>TV-PG</td>\n",
              "      <td>2 Seasons</td>\n",
              "      <td>Animals &amp; Nature, Docuseries, Family</td>\n",
              "      <td>A day in the life at ZooTampa is anything but ...</td>\n",
              "      <td>2 Seasons</td>\n",
              "    </tr>\n",
              "    <tr>\n",
              "      <th>13</th>\n",
              "      <td>s14</td>\n",
              "      <td>TV Show</td>\n",
              "      <td>Dr. Oakley, Yukon Vet</td>\n",
              "      <td></td>\n",
              "      <td>Dr. Michelle Oakley, Zachary Fine</td>\n",
              "      <td>United States</td>\n",
              "      <td>November 17, 2021</td>\n",
              "      <td>2013</td>\n",
              "      <td>TV-PG</td>\n",
              "      <td>10 Seasons</td>\n",
              "      <td>Action-Adventure, Animals &amp; Nature, Docuseries</td>\n",
              "      <td>Meet Dr. Michelle Oakley, vet to pretty much e...</td>\n",
              "      <td>10 Seasons</td>\n",
              "    </tr>\n",
              "  </tbody>\n",
              "</table>\n",
              "</div>"
            ],
            "text/plain": [
              "   show_id     type                      title       director  \\\n",
              "4       s5  TV Show      The Beatles: Get Back  Peter Jackson   \n",
              "6       s7  TV Show                    Hawkeye                  \n",
              "7       s8  TV Show     Port Protection Alaska                  \n",
              "8       s9  TV Show  Secrets of the Zoo: Tampa                  \n",
              "13     s14  TV Show      Dr. Oakley, Yukon Vet                  \n",
              "\n",
              "                                                 cast  \\\n",
              "4   John Lennon, Paul McCartney, George Harrison, ...   \n",
              "6   Jeremy Renner, Hailee Steinfeld, Vera Farmiga,...   \n",
              "7   Gary Muehlberger, Mary Miller, Curly Leach, Sa...   \n",
              "8   Dr. Ray Ball, Dr. Lauren Smith, Chris Massaro,...   \n",
              "13                  Dr. Michelle Oakley, Zachary Fine   \n",
              "\n",
              "                                       country         date_added  \\\n",
              "4   United Kingdom, New Zealand, United States  November 25, 2021   \n",
              "6                                United States  November 24, 2021   \n",
              "7                                United States  November 24, 2021   \n",
              "8                                United States  November 24, 2021   \n",
              "13                               United States  November 17, 2021   \n",
              "\n",
              "    release_year rating    duration  \\\n",
              "4           2021  TV-14    1 Season   \n",
              "6           2021  TV-14    1 Season   \n",
              "7           2015  TV-14   2 Seasons   \n",
              "8           2019  TV-PG   2 Seasons   \n",
              "13          2013  TV-PG  10 Seasons   \n",
              "\n",
              "                                         listed_in  \\\n",
              "4                    Docuseries, Historical, Music   \n",
              "6                      Action-Adventure, Superhero   \n",
              "7                    Docuseries, Reality, Survival   \n",
              "8             Animals & Nature, Docuseries, Family   \n",
              "13  Action-Adventure, Animals & Nature, Docuseries   \n",
              "\n",
              "                                          description duration_int  \n",
              "4   A three-part documentary from Peter Jackson ca...      1 Seaso  \n",
              "6   Clint Barton/Hawkeye must team up with skilled...      1 Seaso  \n",
              "7   Residents of Port Protection must combat volat...    2 Seasons  \n",
              "8   A day in the life at ZooTampa is anything but ...    2 Seasons  \n",
              "13  Meet Dr. Michelle Oakley, vet to pretty much e...   10 Seasons  "
            ]
          },
          "execution_count": 22,
          "metadata": {},
          "output_type": "execute_result"
        }
      ],
      "source": [
        "disney_tv_shows.head()"
      ]
    },
    {
      "cell_type": "markdown",
      "metadata": {
        "id": "nnyXIQznwHLi"
      },
      "source": [
        "# Questions and answers (Exploratory Data Analysis)\n",
        "\n",
        "Below, we explore data and try to answer few questions"
      ]
    },
    {
      "cell_type": "code",
      "execution_count": 23,
      "metadata": {},
      "outputs": [],
      "source": [
        "# This function gets column name and DataFrame as the parameter and returns the counter\n",
        "def column_to_counter(column_name: str, data_frame: pd.DataFrame) -> pd.Series:\n",
        "    starting_list = [str]\n",
        "\n",
        "    # Creating the list of strings from df\n",
        "    for item in data_frame[column_name]:\n",
        "        # if (item is not None) or (item != 'NaN'):\n",
        "            item_split = str(item).split(',')\n",
        "            item_strip = [x.strip() for x in item_split if x]\n",
        "\n",
        "            starting_list += item_strip\n",
        "    \n",
        "    # Creating DataFrame to groupby, sort_values, and plot\n",
        "    starting_list_df = pd.DataFrame(starting_list, columns = [column_name])\n",
        "\n",
        "    # Creating the counter\n",
        "    counter = starting_list_df.groupby(column_name)[column_name].count().sort_values(ascending = False)\n",
        "\n",
        "    return counter\n",
        "    "
      ]
    },
    {
      "cell_type": "markdown",
      "metadata": {
        "id": "ojeWcdxvxqzs"
      },
      "source": [
        "### Q1. Who is the most casted TV show actor, and how many TV shows are they a part of?"
      ]
    },
    {
      "cell_type": "code",
      "execution_count": 26,
      "metadata": {
        "colab": {
          "base_uri": "https://localhost:8080/"
        },
        "id": "JYSMQnWHxxBr",
        "outputId": "8f1ab383-6b61-4769-a9be-f23a19b20bbd"
      },
      "outputs": [
        {
          "data": {
            "text/plain": [
              "<AxesSubplot:xlabel='cast'>"
            ]
          },
          "execution_count": 26,
          "metadata": {},
          "output_type": "execute_result"
        },
        {
          "data": {
            "image/png": "[encoded data removed]",
            "text/plain": [
              "<Figure size 432x288 with 1 Axes>"
            ]
          },
          "metadata": {
            "needs_background": "light"
          },
          "output_type": "display_data"
        }
      ],
      "source": [
        "counter = column_to_counter('cast', disney_tv_shows)\n",
        "counter[:15].plot(kind = 'bar')"
      ]
    },
    {
      "cell_type": "markdown",
      "metadata": {
        "id": "h6CJkU-ex3yo"
      },
      "source": [
        "#### Answer: Jim Cummings is the most casted TV show actor. He is a part of 13 TV shows on Disney+"
      ]
    },
    {
      "cell_type": "markdown",
      "metadata": {
        "id": "OS2DnXKMxD66"
      },
      "source": [
        "### Q2. What percentage of movies have a duration longer than 80 minutes?"
      ]
    },
    {
      "cell_type": "code",
      "execution_count": 27,
      "metadata": {
        "colab": {
          "base_uri": "https://localhost:8080/"
        },
        "id": "jnLE0IBvxKZj",
        "outputId": "fc7a1a3d-0407-43c7-8815-cb47f64e8f6f"
      },
      "outputs": [
        {
          "data": {
            "text/plain": [
              "44.20152091254753"
            ]
          },
          "execution_count": 27,
          "metadata": {},
          "output_type": "execute_result"
        }
      ],
      "source": [
        "disney_movies['duration_int'] = disney_movies['duration_int'].astype(int)\n",
        "sum(disney_movies['duration_int'] > 88) / len(disney_movies) * 100"
      ]
    },
    {
      "cell_type": "markdown",
      "metadata": {
        "id": "pdgDN4nqyLcI"
      },
      "source": [
        "#### Answer: 44.8% of the movies have a duration of more than 80 minutes"
      ]
    },
    {
      "cell_type": "markdown",
      "metadata": {
        "id": "YotDaugFwHLj"
      },
      "source": [
        "### Q3. Which directors have the most movies on Disney+?"
      ]
    },
    {
      "cell_type": "code",
      "execution_count": 28,
      "metadata": {
        "colab": {
          "base_uri": "https://localhost:8080/",
          "height": 375
        },
        "id": "fB4bHrymwHLk",
        "outputId": "5e319f3f-fe79-4f80-85e5-38d35abb2f3e"
      },
      "outputs": [
        {
          "data": {
            "text/plain": [
              "<AxesSubplot:xlabel='director'>"
            ]
          },
          "execution_count": 28,
          "metadata": {},
          "output_type": "execute_result"
        },
        {
          "data": {
            "image/png": "[encoded data removed]",
            "text/plain": [
              "<Figure size 432x288 with 1 Axes>"
            ]
          },
          "metadata": {
            "needs_background": "light"
          },
          "output_type": "display_data"
        }
      ],
      "source": [
        "director_counter = column_to_counter('director', disney)\n",
        "director_counter[:15].plot(kind = 'bar')"
      ]
    },
    {
      "cell_type": "markdown",
      "metadata": {
        "id": "S4X5_2yxySnt"
      },
      "source": [
        "#### Answer: Jack Hannah, an American animator, writer, and director, has worked with Disney+ movies/tv shows the most. He worked on 17 movies and tv shows."
      ]
    },
    {
      "cell_type": "markdown",
      "metadata": {
        "id": "DHBCm1JT8Lxs"
      },
      "source": [
        "### Q4. What are the top 3 movie genres on Disney Plus?"
      ]
    },
    {
      "cell_type": "code",
      "execution_count": 29,
      "metadata": {
        "colab": {
          "base_uri": "https://localhost:8080/",
          "height": 374
        },
        "id": "_NKySvCowHLl",
        "outputId": "dc6508ba-c31e-4f50-a643-a2cb8bc43f0a"
      },
      "outputs": [
        {
          "data": {
            "text/plain": [
              "Text(0.5, 0, 'Genre')"
            ]
          },
          "execution_count": 29,
          "metadata": {},
          "output_type": "execute_result"
        },
        {
          "data": {
            "image/png": "[encoded data removed]",
            "text/plain": [
              "<Figure size 432x288 with 1 Axes>"
            ]
          },
          "metadata": {
            "needs_background": "light"
          },
          "output_type": "display_data"
        }
      ],
      "source": [
        "genre_counter = column_to_counter('listed_in', disney)\n",
        "genre_counter_plot = genre_counter[:15].plot(kind = 'bar')\n",
        "\n",
        "genre_counter_plot.set_xlabel('Genre')"
      ]
    },
    {
      "cell_type": "markdown",
      "metadata": {
        "id": "F5gEytaEybqH"
      },
      "source": [
        "#### Answer: The top 3 movie genres are Family, Animation, and Comedy"
      ]
    },
    {
      "cell_type": "markdown",
      "metadata": {
        "id": "32cBoPOQ1FRx"
      },
      "source": [
        "### Q5. Were there more or less family-friendly movies and TV shows over time?\n"
      ]
    },
    {
      "cell_type": "code",
      "execution_count": 30,
      "metadata": {
        "colab": {
          "base_uri": "https://localhost:8080/",
          "height": 297
        },
        "id": "B3Y7Z6Jv12R_",
        "outputId": "5d5f337d-25f3-45c6-f37c-a2d4f1afd7e2"
      },
      "outputs": [
        {
          "data": {
            "text/plain": [
              "<AxesSubplot:xlabel='release_year'>"
            ]
          },
          "execution_count": 30,
          "metadata": {},
          "output_type": "execute_result"
        },
        {
          "data": {
            "image/png": "[encoded data removed]",
            "text/plain": [
              "<Figure size 432x288 with 1 Axes>"
            ]
          },
          "metadata": {
            "needs_background": "light"
          },
          "output_type": "display_data"
        }
      ],
      "source": [
        "condition2 = disney['listed_in'].str.contains('Family')\n",
        "disney[condition2].groupby('release_year')['title'].count().plot(kind = 'line')"
      ]
    },
    {
      "cell_type": "markdown",
      "metadata": {
        "id": "Dhcx15icygs_"
      },
      "source": [
        "#### Answer: The number of family-friendly movies and TV shows increased over time"
      ]
    },
    {
      "cell_type": "markdown",
      "metadata": {
        "id": "pGQBVoDv4qbI"
      },
      "source": [
        "### Q6. Did the duration of movies get longer or shorter over time?"
      ]
    },
    {
      "cell_type": "code",
      "execution_count": 31,
      "metadata": {
        "colab": {
          "base_uri": "https://localhost:8080/",
          "height": 297
        },
        "id": "7m_9rP_x2qR4",
        "outputId": "b22fba13-5e18-42c3-d105-f42d86ca00a6"
      },
      "outputs": [
        {
          "data": {
            "text/plain": [
              "<AxesSubplot:xlabel='release_year'>"
            ]
          },
          "execution_count": 31,
          "metadata": {},
          "output_type": "execute_result"
        },
        {
          "data": {
            "image/png": "[encoded data removed]",
            "text/plain": [
              "<Figure size 432x288 with 1 Axes>"
            ]
          },
          "metadata": {
            "needs_background": "light"
          },
          "output_type": "display_data"
        }
      ],
      "source": [
        "dismovdur = disney_movies.groupby('release_year')['duration_int'].mean()\n",
        "dismovdur.plot(kind = 'line')"
      ]
    },
    {
      "cell_type": "markdown",
      "metadata": {
        "id": "hXR_LtRIylUM"
      },
      "source": [
        "#### Answer: The duration of movies peaked in the 1960's, and has been decreasing since then"
      ]
    },
    {
      "cell_type": "markdown",
      "metadata": {},
      "source": [
        "#### Q5: I suggest getting the proportion of family-friendly movies and TV shows too. The number of\n",
        "#### family-friendly offerings might have increased over the years just because the total number of\n",
        "#### offerings increased"
      ]
    },
    {
      "cell_type": "code",
      "execution_count": 38,
      "metadata": {},
      "outputs": [
        {
          "data": {
            "text/plain": [
              "<AxesSubplot:>"
            ]
          },
          "execution_count": 38,
          "metadata": {},
          "output_type": "execute_result"
        },
        {
          "data": {
            "image/png": "[encoded data removed]",
            "text/plain": [
              "<Figure size 432x288 with 1 Axes>"
            ]
          },
          "metadata": {
            "needs_background": "light"
          },
          "output_type": "display_data"
        }
      ],
      "source": [
        "disney['rating'].unique()\n",
        "# There are 9 unique ratings: ['TV-G', 'PG', 'TV-PG', 'PG-13', 'TV-14', 'G', 'TV-Y7', 'TV-Y', 'TV-Y7-FV']\n",
        "\n",
        "# '' is null\n",
        "# 'TV-G', 'PG', 'TV-PG', 'G', 'TV-Y7', 'TV-Y', 'TV-Y7-FV' are family friendly\n",
        "# 'PG-13', 'TV-14' are NOT family friendly\n",
        "family_friendly = ['TV-G', 'PG', 'TV-PG', 'G', 'TV-Y7', 'TV-Y', 'TV-Y7-FV']\n",
        "disney['family_friendly'] = disney['rating'].isin(family_friendly)\n",
        "\n",
        "disney['family_friendly'].value_counts()\n",
        "\n",
        "plt.plot()"
      ]
    }
  ],
  "metadata": {
    "colab": {
      "collapsed_sections": [],
      "name": "mgt351_project.ipynb",
      "provenance": []
    },
    "interpreter": {
      "hash": "ed7cf9a39b27818acd42e7966255cfb8e91c0a4a346a1bf836e8b24b6cdfba19"
    },
    "kernelspec": {
      "display_name": "Python 3.8.5 64-bit ('base': conda)",
      "language": "python",
      "name": "python3"
    },
    "language_info": {
      "codemirror_mode": {
        "name": "ipython",
        "version": 3
      },
      "file_extension": ".py",
      "mimetype": "text/x-python",
      "name": "python",
      "nbconvert_exporter": "python",
      "pygments_lexer": "ipython3",
      "version": "3.8.5"
    },
    "orig_nbformat": 4
  },
  "nbformat": 4,
  "nbformat_minor": 0
}
